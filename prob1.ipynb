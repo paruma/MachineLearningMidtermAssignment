{
 "cells": [
  {
   "cell_type": "markdown",
   "metadata": {},
   "source": [
    "# Problem 1\n",
    "ロジスティック回帰 + L2正則化\n",
    "\n",
    "学習データを$(x_i, y_i)_{i=1}^n,\\  x_i\\in \\mathbb{R}^2,\\ y_i\\in \\{-1,1\\}$とする。\n",
    "$$J\\colon \\mathbb{R}^2\\to \\mathbb{R}$$\n",
    "$$J(w) = \\frac{1}{n}\\sum_{i=1}^n (\\ln (1 + \\exp(-y_iw^\\top x_i)))  +\\lambda w^\\top w$$\n",
    "としたとき、\n",
    "$$\\hat w = \\arg\\min_w J(w)$$\n",
    "を求める。解析解は求められないので、最急降下法とニュートン法で上記の最適解を求める。\n",
    "\n",
    "なお、$\\mathrm{\\sigma}(x) = 1/(1 + \\exp(-x))$ (シグモイド関数)とすると\n",
    "$$J(w) = -\\frac{1}{n}\\sum_{i=1}^n \\log\\sigma(y_iw^\\top x) + \\lambda w^\\top w$$\n",
    "と表せる。\n",
    "\n",
    "時刻$t\\in\\mathbb{N}$における(最急降下法またはニュートン法の)更新を\n",
    "$$w^{(t+1)} = w^{(t)} + \\alpha^{(t)}d^{(t)}$$\n",
    "とする。今回は簡単のため、$\\alpha^{(t)}$は$t$によらない定数とする。(課題資料より)\n",
    "\n",
    "## 最急降下法の式\n",
    "$$d^{(t)} = -\\nabla J(w^{(t)})$$\n",
    "で求められる。\n",
    "\n",
    "$$\\nabla J(w) =  -\\frac{1}{n}\\sum_{i=1}^n [1-\\sigma(y_iw^\\top x)]y_ix_i + 2\\lambda w$$\n",
    "である。\n",
    "\n",
    "\n",
    "\n",
    "## ニュートン法の式\n",
    "$$d^{(t)} = -(\\nabla^2 J(w^{(t)}))^{-1} \\nabla J(w^{(t)})$$\n",
    "で求められる。\n",
    "\n",
    "$$\\nabla^2 J(w) = \\frac{1}{n} \\sum_{i=1}^n \\sigma(y_iw^\\top x_i) (1- \\sigma(y_iw^\\top x_i)) x_ix_i^\\top + 2\\lambda I$$\n",
    "である。 ($I$は単位行列)"
   ]
  },
  {
   "cell_type": "markdown",
   "metadata": {},
   "source": [
    "## データセットの作成\n",
    "教師データ$(x_i, y_i)_{i=1}^n$\n",
    "$x_i\\in \\mathbb{R}^2,\\ y_i\\in \\{-1,1\\}$\n",
    "\n"
   ]
  },
  {
   "cell_type": "code",
   "execution_count": 3,
   "metadata": {},
   "outputs": [],
   "source": [
    "import numpy as np\n",
    "import matplotlib.pyplot as plt"
   ]
  },
  {
   "cell_type": "code",
   "execution_count": 4,
   "metadata": {},
   "outputs": [],
   "source": [
    "from collections import namedtuple\n",
    "Entry = namedtuple('Entry', ('x', 'y'))"
   ]
  },
  {
   "cell_type": "code",
   "execution_count": 5,
   "metadata": {
    "scrolled": true
   },
   "outputs": [],
   "source": [
    "from numpy.random import *\n",
    "\n",
    "seed(1000) # 再現性のためにシード固定\n",
    "n= 40\n",
    "omega = randn(1,1) # 境界線の傾きのようなもの\n",
    "noise = 0.8 * randn(n,1)\n",
    "\n",
    "x = randn(n,2)\n",
    "y = 2 * (omega * x[: , 0:1] + x[: , 1:2]   + noise > 0) - 1\n",
    "# x[:, 0]だと1次元のベクトルが出てきて、行列演算が適用できない。\n",
    "# x[:,0:1]とすることで0列目をn行1列の行列として抽出できる。\n",
    "\n",
    "data = [Entry(elem[0].reshape(2,1), elem[1]) for elem in zip(list(x), list(y))]"
   ]
  },
  {
   "cell_type": "code",
   "execution_count": 6,
   "metadata": {
    "scrolled": false
   },
   "outputs": [
    {
     "data": {
      "text/plain": [
       "<matplotlib.legend.Legend at 0x115b9da58>"
      ]
     },
     "execution_count": 6,
     "metadata": {},
     "output_type": "execute_result"
    },
    {
     "data": {
      "image/png": "[encoded data removed]",
      "text/plain": [
       "<Figure size 432x288 with 1 Axes>"
      ]
     },
     "metadata": {},
     "output_type": "display_data"
    }
   ],
   "source": [
    "# 学習データをプロットする\n",
    "\n",
    "# y=-1とy=1でデータセットを分離する\n",
    "\n",
    "# y=1のデータ\n",
    "data_p1 = [elem.x for elem in data if elem.y == 1]\n",
    "# y=-1のデータ\n",
    "data_m1 = [elem.x for elem in data if elem.y == -1]\n",
    "\n",
    "# xの第1成分と第2成分を分離\n",
    "data_p1x1 = [x[0] for x in data_p1]\n",
    "data_p1x2 = [x[1] for x in data_p1]\n",
    "data_m1x1 = [x[0] for x in data_m1]\n",
    "data_m1x2 = [x[1] for x in data_m1]\n",
    "\n",
    "fig = plt.figure()\n",
    "ax = fig.add_subplot(1,1,1)\n",
    "\n",
    "ax.scatter(data_p1x1,data_p1x2, c='red', label='y=1')\n",
    "ax.scatter(data_m1x1, data_m1x2, c='blue', label='y=-1')\n",
    "\n",
    "ax.set_title('learning data')\n",
    "ax.set_xlabel('$X_1$')\n",
    "ax.set_ylabel('$X_2$')\n",
    "ax.legend(loc='upper right')"
   ]
  },
  {
   "cell_type": "markdown",
   "metadata": {},
   "source": [
    "## 損失関数 + 正則化項\n",
    "$\\sigma(x) = 1/(1 + \\exp(-x))$(シグモイド関数)としたとき\n",
    "$$J(w) = -\\frac{1}{n}\\sum_{i=1}^n \\log\\sigma(y_iw^\\top x_i) + \\lambda w^\\top w$$"
   ]
  },
  {
   "cell_type": "code",
   "execution_count": 7,
   "metadata": {},
   "outputs": [],
   "source": [
    "def sigmoid(x):\n",
    "    return 1/(1 + np.exp(-x))"
   ]
  },
  {
   "cell_type": "code",
   "execution_count": 8,
   "metadata": {},
   "outputs": [],
   "source": [
    "# 正則化項\n",
    "lam = 1"
   ]
  },
  {
   "cell_type": "code",
   "execution_count": 9,
   "metadata": {},
   "outputs": [],
   "source": [
    "# Jの定義\n",
    "# wはベクトル\n",
    "def J(w):\n",
    "    # 総和の項の計算\n",
    "    def f(entry):\n",
    "        x = entry.x\n",
    "        y = entry.y\n",
    "        ywx = y * np.matmul(w.T, x)\n",
    "        return np.log(sigmoid(ywx))\n",
    "    return -(1/n) * sum([f(entry) for entry in data]) + lam * np.matmul(w.T, w)\n"
   ]
  },
  {
   "cell_type": "markdown",
   "metadata": {},
   "source": [
    "## 最急降下法の実装\n",
    "$$\\nabla J(w) =  -\\frac{1}{n}\\sum_{i=1}^n [1-\\sigma(y_iw^\\top x)]y_ix_i + 2\\lambda w$$\n",
    "$$d^{(t)} = -\\nabla J(w^{(t)})$$\n"
   ]
  },
  {
   "cell_type": "code",
   "execution_count": 10,
   "metadata": {},
   "outputs": [],
   "source": [
    "# ∇Jの定義\n",
    "def nablaJ(w):\n",
    "    def f(entry):\n",
    "        x = entry.x\n",
    "        y = entry.y\n",
    "        ywx = y * np.matmul(w.T, x)\n",
    "        return (1-sigmoid(ywx)) * y * x\n",
    "    return -(1/n) * sum([f(entry) for entry in data]) + 2 * lam * w\n",
    "    "
   ]
  },
  {
   "cell_type": "code",
   "execution_count": 84,
   "metadata": {},
   "outputs": [],
   "source": [
    "# 更新ベクトルの計算 (w(t+1)= w(t) + alpha(t) d(t) のd(t))\n",
    "def delta(w):\n",
    "     return - nablaJ(w)\n",
    "\n",
    "alpha = 0.1 # tによらない定数とする。"
   ]
  },
  {
   "cell_type": "code",
   "execution_count": 85,
   "metadata": {
    "scrolled": true
   },
   "outputs": [
    {
     "name": "stdout",
     "output_type": "stream",
     "text": [
      "w, j\n",
      "[[0]\n",
      " [0]] [[0.69314718]]\n",
      "[[-0.03226266]\n",
      " [ 0.04271519]] [[0.66798068]]\n",
      "[[-0.05674535]\n",
      " [ 0.0749763 ]] [[0.65357338]]\n",
      "[[-0.07533217]\n",
      " [ 0.09935001]] [[0.6453186]]\n",
      "[[-0.08945098]\n",
      " [ 0.11777337]] [[0.64058403]]\n",
      "[[-0.10018186]\n",
      " [ 0.13170561]] [[0.63786574]]\n",
      "[[-0.1083419 ]\n",
      " [ 0.14224592]] [[0.63630369]]\n",
      "[[-0.11454965]\n",
      " [ 0.15022283]] [[0.63540539]]\n",
      "[[-0.11927387]\n",
      " [ 0.1562614 ]] [[0.63488849]]\n",
      "[[-0.12287016]\n",
      " [ 0.16083358]] [[0.63459091]]\n",
      "[[-0.12560846]\n",
      " [ 0.16429601]] [[0.63441952]]\n",
      "[[-0.12769389]\n",
      " [ 0.16691834]] [[0.63432079]]\n",
      "[[-0.12928237]\n",
      " [ 0.16890456]] [[0.6342639]]\n",
      "[[-0.13049248]\n",
      " [ 0.17040906]] [[0.63423111]]\n",
      "[[-0.13141447]\n",
      " [ 0.1715487 ]] [[0.6342122]]\n",
      "[[-0.13211701]\n",
      " [ 0.17241198]] [[0.63420131]]\n",
      "[[-0.13265238]\n",
      " [ 0.17306592]] [[0.63419502]]\n",
      "[[-0.13306039]\n",
      " [ 0.17356127]] [[0.6341914]]\n",
      "[[-0.13337137]\n",
      " [ 0.1739365 ]] [[0.63418931]]\n",
      "[[-0.13360841]\n",
      " [ 0.17422072]] [[0.63418811]]\n",
      "[[-0.1337891]\n",
      " [ 0.174436 ]] [[0.63418741]]\n",
      "[[-0.13392684]\n",
      " [ 0.17459906]] [[0.63418701]]\n",
      "[[-0.13403186]\n",
      " [ 0.17472256]] [[0.63418678]]\n",
      "[[-0.13411193]\n",
      " [ 0.1748161 ]] [[0.63418665]]\n",
      "[[-0.13417298]\n",
      " [ 0.17488694]] [[0.63418657]]\n",
      "[[-0.13421954]\n",
      " [ 0.17494059]] [[0.63418652]]\n",
      "[[-0.13425504]\n",
      " [ 0.17498121]] [[0.6341865]]\n",
      "[[-0.13428211]\n",
      " [ 0.17501197]] [[0.63418648]]\n",
      "[[-0.13430276]\n",
      " [ 0.17503527]] [[0.63418648]]\n",
      "[[-0.13431851]\n",
      " [ 0.17505291]] [[0.63418647]]\n",
      "[[-0.13433052]\n",
      " [ 0.17506626]] [[0.63418647]]\n",
      "[[-0.13433969]\n",
      " [ 0.17507637]] [[0.63418647]]\n",
      "[[-0.13434668]\n",
      " [ 0.17508402]] [[0.63418647]]\n",
      "[[-0.13435201]\n",
      " [ 0.17508982]] [[0.63418647]]\n",
      "[[-0.13435608]\n",
      " [ 0.1750942 ]] [[0.63418646]]\n",
      "[[-0.13435919]\n",
      " [ 0.17509752]] [[0.63418646]]\n",
      "[[-0.13436156]\n",
      " [ 0.17510004]] [[0.63418646]]\n",
      "[[-0.13436337]\n",
      " [ 0.17510194]] [[0.63418646]]\n",
      "[[-0.13436475]\n",
      " [ 0.17510338]] [[0.63418646]]\n",
      "[[-0.1343658 ]\n",
      " [ 0.17510447]] [[0.63418646]]\n",
      "[[-0.1343666 ]\n",
      " [ 0.17510529]] [[0.63418646]]\n",
      "[[-0.13436722]\n",
      " [ 0.17510591]] [[0.63418646]]\n",
      "[[-0.13436769]\n",
      " [ 0.17510639]] [[0.63418646]]\n",
      "[[-0.13436804]\n",
      " [ 0.17510674]] [[0.63418646]]\n",
      "[[-0.13436832]\n",
      " [ 0.17510701]] [[0.63418646]]\n",
      "[[-0.13436853]\n",
      " [ 0.17510722]] [[0.63418646]]\n",
      "[[-0.13436868]\n",
      " [ 0.17510737]] [[0.63418646]]\n",
      "[[-0.13436881]\n",
      " [ 0.17510749]] [[0.63418646]]\n",
      "[[-0.1343689 ]\n",
      " [ 0.17510758]] [[0.63418646]]\n",
      "[[-0.13436897]\n",
      " [ 0.17510764]] [[0.63418646]]\n",
      "[[-0.13436902]\n",
      " [ 0.1751077 ]] [[0.63418646]]\n",
      "[[-0.13436907]\n",
      " [ 0.17510773]] [[0.63418646]]\n",
      "[[-0.1343691 ]\n",
      " [ 0.17510776]] [[0.63418646]]\n",
      "[[-0.13436912]\n",
      " [ 0.17510778]] [[0.63418646]]\n",
      "[[-0.13436914]\n",
      " [ 0.1751078 ]] [[0.63418646]]\n",
      "[[-0.13436915]\n",
      " [ 0.17510781]] [[0.63418646]]\n",
      "[[-0.13436916]\n",
      " [ 0.17510782]] [[0.63418646]]\n",
      "[[-0.13436917]\n",
      " [ 0.17510783]] [[0.63418646]]\n",
      "[[-0.13436918]\n",
      " [ 0.17510783]] [[0.63418646]]\n",
      "[[-0.13436918]\n",
      " [ 0.17510784]] [[0.63418646]]\n",
      "[[-0.13436919]\n",
      " [ 0.17510784]] [[0.63418646]]\n",
      "[[-0.13436919]\n",
      " [ 0.17510784]] [[0.63418646]]\n",
      "[[-0.13436919]\n",
      " [ 0.17510785]] [[0.63418646]]\n",
      "[[-0.13436919]\n",
      " [ 0.17510785]] [[0.63418646]]\n",
      "[[-0.1343692 ]\n",
      " [ 0.17510785]] [[0.63418646]]\n",
      "[[-0.1343692 ]\n",
      " [ 0.17510785]] [[0.63418646]]\n",
      "[[-0.1343692 ]\n",
      " [ 0.17510785]] [[0.63418646]]\n",
      "[[-0.1343692 ]\n",
      " [ 0.17510785]] [[0.63418646]]\n",
      "[[-0.1343692 ]\n",
      " [ 0.17510785]] [[0.63418646]]\n",
      "[[-0.1343692 ]\n",
      " [ 0.17510785]] [[0.63418646]]\n",
      "[[-0.1343692 ]\n",
      " [ 0.17510785]] [[0.63418646]]\n",
      "[[-0.1343692 ]\n",
      " [ 0.17510785]] [[0.63418646]]\n",
      "[[-0.1343692 ]\n",
      " [ 0.17510785]] [[0.63418646]]\n",
      "[[-0.1343692 ]\n",
      " [ 0.17510785]] [[0.63418646]]\n",
      "[[-0.1343692 ]\n",
      " [ 0.17510785]] [[0.63418646]]\n",
      "[[-0.1343692 ]\n",
      " [ 0.17510785]] [[0.63418646]]\n",
      "[[-0.1343692 ]\n",
      " [ 0.17510785]] [[0.63418646]]\n",
      "[[-0.1343692 ]\n",
      " [ 0.17510785]] [[0.63418646]]\n",
      "[[-0.1343692 ]\n",
      " [ 0.17510785]] [[0.63418646]]\n",
      "[[-0.1343692 ]\n",
      " [ 0.17510785]] [[0.63418646]]\n",
      "[[-0.1343692 ]\n",
      " [ 0.17510785]] [[0.63418646]]\n",
      "[[-0.1343692 ]\n",
      " [ 0.17510785]] [[0.63418646]]\n",
      "[[-0.1343692 ]\n",
      " [ 0.17510785]] [[0.63418646]]\n",
      "[[-0.1343692 ]\n",
      " [ 0.17510785]] [[0.63418646]]\n",
      "[[-0.1343692 ]\n",
      " [ 0.17510785]] [[0.63418646]]\n",
      "[[-0.1343692 ]\n",
      " [ 0.17510785]] [[0.63418646]]\n",
      "[[-0.1343692 ]\n",
      " [ 0.17510785]] [[0.63418646]]\n",
      "[[-0.1343692 ]\n",
      " [ 0.17510785]] [[0.63418646]]\n",
      "[[-0.1343692 ]\n",
      " [ 0.17510785]] [[0.63418646]]\n",
      "[[-0.1343692 ]\n",
      " [ 0.17510785]] [[0.63418646]]\n",
      "[[-0.1343692 ]\n",
      " [ 0.17510785]] [[0.63418646]]\n",
      "[[-0.1343692 ]\n",
      " [ 0.17510785]] [[0.63418646]]\n",
      "[[-0.1343692 ]\n",
      " [ 0.17510785]] [[0.63418646]]\n",
      "[[-0.1343692 ]\n",
      " [ 0.17510785]] [[0.63418646]]\n",
      "[[-0.1343692 ]\n",
      " [ 0.17510785]] [[0.63418646]]\n",
      "[[-0.1343692 ]\n",
      " [ 0.17510785]] [[0.63418646]]\n",
      "[[-0.1343692 ]\n",
      " [ 0.17510785]] [[0.63418646]]\n",
      "[[-0.1343692 ]\n",
      " [ 0.17510785]] [[0.63418646]]\n",
      "[[-0.1343692 ]\n",
      " [ 0.17510785]] [[0.63418646]]\n",
      "[[-0.1343692 ]\n",
      " [ 0.17510785]] [[0.63418646]]\n"
     ]
    }
   ],
   "source": [
    "numIterations = 100\n",
    "wlist = []\n",
    "w0 = np.array([[0],[0]])# wの初期値\n",
    "wlist.append(w0)\n",
    "\n",
    "for i in range(1, numIterations):\n",
    "    wold = wlist[i-1]\n",
    "    wnew = wold + alpha * delta(wold)\n",
    "    wlist.append(wnew)\n",
    "\n",
    "wresult = wlist[-1] # 再急降下法の結果\n",
    "\n",
    "print(\"w, j\")\n",
    "\n",
    "jlist = [J(w) for w in wlist]\n",
    "for w, j in zip(wlist, jlist):\n",
    "    print(w,j)\n"
   ]
  },
  {
   "cell_type": "code",
   "execution_count": 86,
   "metadata": {},
   "outputs": [
    {
     "data": {
      "image/png": "[encoded data removed]",
      "text/plain": [
       "<Figure size 432x288 with 1 Axes>"
      ]
     },
     "metadata": {},
     "output_type": "display_data"
    }
   ],
   "source": [
    "# wの収束の様子\n",
    "\n",
    "w1list = [w[0] for w in wlist]\n",
    "w2list = [w[1] for w in wlist]\n",
    "\n",
    "fig = plt.figure()\n",
    "ax = fig.add_subplot(1,1,1)\n",
    "ax.scatter(w1list, w2list, s=10)\n",
    "\n",
    "ax.set_title('movement of w')\n",
    "ax.set_xlabel('$w_1$')\n",
    "ax.set_ylabel('$w_2$');\n"
   ]
  },
  {
   "cell_type": "code",
   "execution_count": 87,
   "metadata": {},
   "outputs": [
    {
     "data": {
      "image/png": "[encoded data removed]",
      "text/plain": [
       "<Figure size 432x288 with 1 Axes>"
      ]
     },
     "metadata": {},
     "output_type": "display_data"
    }
   ],
   "source": [
    "# J(w)の収束の様子\n",
    "iteration = range(0,numIterations)\n",
    "\n",
    "fig = plt.figure()\n",
    "ax = fig.add_subplot(1,1,1)\n",
    "ax.scatter(iteration, jlist, s=5)\n",
    "\n",
    "ax.set_title('movement of $J(w^{(t)})$')\n",
    "ax.set_xlabel('$t$')\n",
    "ax.set_ylabel('$J(w^{(t)})$');"
   ]
  },
  {
   "cell_type": "code",
   "execution_count": 88,
   "metadata": {
    "scrolled": true
   },
   "outputs": [
    {
     "data": {
      "image/png": "[encoded data removed]",
      "text/plain": [
       "<Figure size 432x288 with 1 Axes>"
      ]
     },
     "metadata": {},
     "output_type": "display_data"
    }
   ],
   "source": [
    "# 学習データ + 識別線\n",
    "\n",
    "fig = plt.figure()\n",
    "ax = fig.add_subplot(1,1,1)\n",
    "\n",
    "# 学習データ\n",
    "ax.scatter(data_p1x1,data_p1x2, c='red', label='y=1')\n",
    "ax.scatter(data_m1x1, data_m1x2, c='blue', label='y=-1')\n",
    "\n",
    "ax.set_title('learning data')\n",
    "ax.set_xlabel('$X_1$')\n",
    "ax.set_ylabel('$X_2$')\n",
    "ax.legend(loc='upper right');\n",
    "\n",
    "# 識別線\n",
    "linex = np.arange(-2,3,0.01)\n",
    "# w1*x + w2*y = 0より、y = -(w1/w2)x が識別線\n",
    "liney = -wresult[0]/wresult[1] * linex\n",
    "ax.scatter(linex, liney,c='green', s=5);\n"
   ]
  },
  {
   "cell_type": "markdown",
   "metadata": {},
   "source": [
    "## ニュートン法の実装\n",
    "$$\\nabla^2 J(w) = \\frac{1}{n} \\sum_{i=1}^n \\sigma(y_iw^\\top x_i) (1- \\sigma(y_iw^\\top x_i)) x_ix_i^\\top + 2\\lambda I$$\n",
    "$$d^{(t)} = -(\\nabla^2 J(w^{(t)}))^{-1} \\nabla J(w^{(t)})$$"
   ]
  },
  {
   "cell_type": "code",
   "execution_count": 89,
   "metadata": {},
   "outputs": [],
   "source": [
    "def hessianJ(w):\n",
    "    # 総和の項\n",
    "    def f(entry):\n",
    "        x = entry.x\n",
    "        y = entry.y\n",
    "        ywx =  y * np.matmul(w.T,x)\n",
    "        return sigmoid(ywx) * (1-sigmoid(ywx)) * np.matmul(x, x.T)\n",
    "    return (1/n) * sum([f(entry) for entry in data] + 2 * lam * np.eye(2))"
   ]
  },
  {
   "cell_type": "code",
   "execution_count": 90,
   "metadata": {},
   "outputs": [],
   "source": [
    "def delta(w):\n",
    "    return -np.matmul(np.linalg.inv(hessianJ(w)), nablaJ(w))\n",
    "\n",
    "alpha = 0.1 # 最急降下法と同じ値"
   ]
  },
  {
   "cell_type": "code",
   "execution_count": 91,
   "metadata": {
    "scrolled": true
   },
   "outputs": [
    {
     "name": "stdout",
     "output_type": "stream",
     "text": [
      "w, j\n",
      "[[0]\n",
      " [0]] [[0.69314718]]\n",
      "[[-0.01338363]\n",
      " [ 0.01744329]] [[0.68196676]]\n",
      "[[-0.02543045]\n",
      " [ 0.03314421]] [[0.6729094]]\n",
      "[[-0.03627627]\n",
      " [ 0.04727967]] [[0.66557037]]\n",
      "[[-0.04604226]\n",
      " [ 0.06000754]] [[0.65962278]]\n",
      "[[-0.05483674]\n",
      " [ 0.07146904]] [[0.65480236]]\n",
      "[[-0.06275679]\n",
      " [ 0.08179072]] [[0.65089527]]\n",
      "[[-0.06988956]\n",
      " [ 0.09108619]] [[0.64772836]]\n",
      "[[-0.07631331]\n",
      " [ 0.09945751]] [[0.64516141]]\n",
      "[[-0.08209848]\n",
      " [ 0.10699649]] [[0.64308077]]\n",
      "[[-0.08730843]\n",
      " [ 0.11378577]] [[0.64139434]]\n",
      "[[-0.09200023]\n",
      " [ 0.11989972]] [[0.64002749]]\n",
      "[[-0.09622526]\n",
      " [ 0.12540535]] [[0.63891968]]\n",
      "[[-0.10002983]\n",
      " [ 0.13036301]] [[0.63802185]]\n",
      "[[-0.10345566]\n",
      " [ 0.1348271 ]] [[0.63729423]]\n",
      "[[-0.10654033]\n",
      " [ 0.13884661]] [[0.63670458]]\n",
      "[[-0.10931773]\n",
      " [ 0.14246568]] [[0.63622675]]\n",
      "[[-0.11181837]\n",
      " [ 0.14572411]] [[0.63583955]]\n",
      "[[-0.11406976]\n",
      " [ 0.14865775]] [[0.6355258]]\n",
      "[[-0.11609669]\n",
      " [ 0.15129888]] [[0.63527157]]\n",
      "[[-0.11792148]\n",
      " [ 0.1536766 ]] [[0.63506558]]\n",
      "[[-0.11956424]\n",
      " [ 0.15581713]] [[0.63489868]]\n",
      "[[-0.12104309]\n",
      " [ 0.15774409]] [[0.63476346]]\n",
      "[[-0.12237436]\n",
      " [ 0.15947875]] [[0.6346539]]\n",
      "[[-0.12357276]\n",
      " [ 0.16104025]] [[0.63456514]]\n",
      "[[-0.12465152]\n",
      " [ 0.16244587]] [[0.63449323]]\n",
      "[[-0.12562256]\n",
      " [ 0.16371114]] [[0.63443497]]\n",
      "[[-0.12649664]\n",
      " [ 0.16485005]] [[0.63438778]]\n",
      "[[-0.12728342]\n",
      " [ 0.16587522]] [[0.63434954]]\n",
      "[[-0.12799161]\n",
      " [ 0.16679798]] [[0.63431857]]\n",
      "[[-0.12862905]\n",
      " [ 0.16762856]] [[0.63429348]]\n",
      "[[-0.12920281]\n",
      " [ 0.16837616]] [[0.63427315]]\n",
      "[[-0.12971925]\n",
      " [ 0.16904906]] [[0.63425669]]\n",
      "[[-0.13018407]\n",
      " [ 0.16965472]] [[0.63424335]]\n",
      "[[-0.13060245]\n",
      " [ 0.17019986]] [[0.63423254]]\n",
      "[[-0.13097901]\n",
      " [ 0.17069052]] [[0.63422379]]\n",
      "[[-0.13131794]\n",
      " [ 0.17113213]] [[0.6342167]]\n",
      "[[-0.13162299]\n",
      " [ 0.17152961]] [[0.63421095]]\n",
      "[[-0.13189756]\n",
      " [ 0.17188736]] [[0.6342063]]\n",
      "[[-0.13214467]\n",
      " [ 0.17220935]] [[0.63420253]]\n",
      "[[-0.13236709]\n",
      " [ 0.17249915]] [[0.63419948]]\n",
      "[[-0.13256727]\n",
      " [ 0.17275998]] [[0.63419701]]\n",
      "[[-0.13274743]\n",
      " [ 0.17299473]] [[0.634195]]\n",
      "[[-0.13290959]\n",
      " [ 0.17320602]] [[0.63419338]]\n",
      "[[-0.13305553]\n",
      " [ 0.17339618]] [[0.63419207]]\n",
      "[[-0.13318689]\n",
      " [ 0.17356733]] [[0.634191]]\n",
      "[[-0.13330511]\n",
      " [ 0.17372137]] [[0.63419014]]\n",
      "[[-0.13341151]\n",
      " [ 0.17386   ]] [[0.63418944]]\n",
      "[[-0.13350727]\n",
      " [ 0.17398478]] [[0.63418888]]\n",
      "[[-0.13359346]\n",
      " [ 0.17409708]] [[0.63418842]]\n",
      "[[-0.13367103]\n",
      " [ 0.17419815]] [[0.63418805]]\n",
      "[[-0.13374084]\n",
      " [ 0.17428911]] [[0.63418775]]\n",
      "[[-0.13380367]\n",
      " [ 0.17437098]] [[0.6341875]]\n",
      "[[-0.13386022]\n",
      " [ 0.17444467]] [[0.63418731]]\n",
      "[[-0.13391112]\n",
      " [ 0.17451098]] [[0.63418715]]\n",
      "[[-0.13395692]\n",
      " [ 0.17457067]] [[0.63418702]]\n",
      "[[-0.13399815]\n",
      " [ 0.17462438]] [[0.63418691]]\n",
      "[[-0.13403525]\n",
      " [ 0.17467273]] [[0.63418683]]\n",
      "[[-0.13406865]\n",
      " [ 0.17471624]] [[0.63418676]]\n",
      "[[-0.1340987]\n",
      " [ 0.1747554]] [[0.6341867]]\n",
      "[[-0.13412575]\n",
      " [ 0.17479065]] [[0.63418666]]\n",
      "[[-0.1341501 ]\n",
      " [ 0.17482237]] [[0.63418662]]\n",
      "[[-0.13417201]\n",
      " [ 0.17485091]] [[0.63418659]]\n",
      "[[-0.13419173]\n",
      " [ 0.17487661]] [[0.63418657]]\n",
      "[[-0.13420947]\n",
      " [ 0.17489973]] [[0.63418655]]\n",
      "[[-0.13422544]\n",
      " [ 0.17492054]] [[0.63418653]]\n",
      "[[-0.13423982]\n",
      " [ 0.17493927]] [[0.63418652]]\n",
      "[[-0.13425276]\n",
      " [ 0.17495613]] [[0.63418651]]\n",
      "[[-0.1342644]\n",
      " [ 0.1749713]] [[0.6341865]]\n",
      "[[-0.13427488]\n",
      " [ 0.17498496]] [[0.63418649]]\n",
      "[[-0.13428431]\n",
      " [ 0.17499725]] [[0.63418649]]\n",
      "[[-0.1342928 ]\n",
      " [ 0.17500831]] [[0.63418648]]\n",
      "[[-0.13430044]\n",
      " [ 0.17501826]] [[0.63418648]]\n",
      "[[-0.13430732]\n",
      " [ 0.17502722]] [[0.63418648]]\n",
      "[[-0.13431351]\n",
      " [ 0.17503528]] [[0.63418647]]\n",
      "[[-0.13431908]\n",
      " [ 0.17504254]] [[0.63418647]]\n",
      "[[-0.13432409]\n",
      " [ 0.17504907]] [[0.63418647]]\n",
      "[[-0.1343286 ]\n",
      " [ 0.17505495]] [[0.63418647]]\n",
      "[[-0.13433266]\n",
      " [ 0.17506024]] [[0.63418647]]\n",
      "[[-0.13433631]\n",
      " [ 0.175065  ]] [[0.63418647]]\n",
      "[[-0.1343396 ]\n",
      " [ 0.17506929]] [[0.63418647]]\n",
      "[[-0.13434256]\n",
      " [ 0.17507314]] [[0.63418647]]\n",
      "[[-0.13434523]\n",
      " [ 0.17507661]] [[0.63418647]]\n",
      "[[-0.13434762]\n",
      " [ 0.17507974]] [[0.63418647]]\n",
      "[[-0.13434978]\n",
      " [ 0.17508255]] [[0.63418647]]\n",
      "[[-0.13435172]\n",
      " [ 0.17508508]] [[0.63418647]]\n",
      "[[-0.13435347]\n",
      " [ 0.17508736]] [[0.63418647]]\n",
      "[[-0.13435504]\n",
      " [ 0.17508941]] [[0.63418647]]\n",
      "[[-0.13435646]\n",
      " [ 0.17509125]] [[0.63418646]]\n",
      "[[-0.13435773]\n",
      " [ 0.17509291]] [[0.63418646]]\n",
      "[[-0.13435888]\n",
      " [ 0.1750944 ]] [[0.63418646]]\n",
      "[[-0.13435991]\n",
      " [ 0.17509575]] [[0.63418646]]\n",
      "[[-0.13436084]\n",
      " [ 0.17509696]] [[0.63418646]]\n",
      "[[-0.13436168]\n",
      " [ 0.17509805]] [[0.63418646]]\n",
      "[[-0.13436243]\n",
      " [ 0.17509903]] [[0.63418646]]\n",
      "[[-0.13436311]\n",
      " [ 0.17509991]] [[0.63418646]]\n",
      "[[-0.13436372]\n",
      " [ 0.17510071]] [[0.63418646]]\n",
      "[[-0.13436426]\n",
      " [ 0.17510142]] [[0.63418646]]\n",
      "[[-0.13436476]\n",
      " [ 0.17510206]] [[0.63418646]]\n",
      "[[-0.1343652 ]\n",
      " [ 0.17510264]] [[0.63418646]]\n"
     ]
    }
   ],
   "source": [
    "numIterations = 100\n",
    "wlist = []\n",
    "w0 = np.array([[0],[0]])# wの初期値\n",
    "wlist.append(w0)\n",
    "\n",
    "for i in range(1, numIterations):\n",
    "    wold = wlist[i-1]\n",
    "    wnew = wold + alpha * delta(wold)\n",
    "    wlist.append(wnew)\n",
    "\n",
    "wresult = wlist[-1] # 再急降下法の結果\n",
    "\n",
    "print(\"w, j\")\n",
    "\n",
    "jlist = [J(w) for w in wlist]\n",
    "for w, j in zip(wlist, jlist):\n",
    "    print(w,j)\n"
   ]
  },
  {
   "cell_type": "code",
   "execution_count": 92,
   "metadata": {
    "scrolled": true
   },
   "outputs": [
    {
     "data": {
      "image/png": "[encoded data removed]",
      "text/plain": [
       "<Figure size 432x288 with 1 Axes>"
      ]
     },
     "metadata": {},
     "output_type": "display_data"
    }
   ],
   "source": [
    "# wの収束の様子\n",
    "\n",
    "w1list = [w[0] for w in wlist]\n",
    "w2list = [w[1] for w in wlist]\n",
    "\n",
    "fig = plt.figure()\n",
    "ax = fig.add_subplot(1,1,1)\n",
    "ax.scatter(w1list, w2list, s=10)\n",
    "\n",
    "ax.set_title('movement of w')\n",
    "ax.set_xlabel('$w_1$')\n",
    "ax.set_ylabel('$w_2$');"
   ]
  },
  {
   "cell_type": "code",
   "execution_count": 93,
   "metadata": {},
   "outputs": [
    {
     "data": {
      "image/png": "[encoded data removed]",
      "text/plain": [
       "<Figure size 432x288 with 1 Axes>"
      ]
     },
     "metadata": {},
     "output_type": "display_data"
    }
   ],
   "source": [
    "# J(w)の収束の様子\n",
    "iteration = range(0,numIterations)\n",
    "\n",
    "fig = plt.figure()\n",
    "ax = fig.add_subplot(1,1,1)\n",
    "ax.scatter(iteration, jlist, s=5)\n",
    "\n",
    "ax.set_title('movement of $J(w^{(t)})$')\n",
    "ax.set_xlabel('$t$')\n",
    "ax.set_ylabel('$J(w^{(t)})$');"
   ]
  },
  {
   "cell_type": "markdown",
   "metadata": {},
   "source": [
    "## 問題点\n",
    "* 正則化項の$\\lambda$をどうするか\n",
    "* 最急降下法とニュートン法の更新レート$\\alpha$をどうするか\n",
    "\n",
    "収束するように適当に選んだ。$\\alpha$は大きくしすぎると振動したり無限大に発散したりする。"
   ]
  },
  {
   "cell_type": "markdown",
   "metadata": {},
   "source": [
    "## メモ\n",
    "* Python3.6.5\n",
    "\n"
   ]
  }
 ],
 "metadata": {
  "kernelspec": {
   "display_name": "Python 3",
   "language": "python",
   "name": "python3"
  },
  "language_info": {
   "codemirror_mode": {
    "name": "ipython",
    "version": 3
   },
   "file_extension": ".py",
   "mimetype": "text/x-python",
   "name": "python",
   "nbconvert_exporter": "python",
   "pygments_lexer": "ipython3",
   "version": "3.6.5"
  }
 },
 "nbformat": 4,
 "nbformat_minor": 2
}
