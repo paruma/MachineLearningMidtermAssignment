{
 "cells": [
  {
   "cell_type": "markdown",
   "metadata": {},
   "source": [
    "# Problem 1\n",
    "ロジスティック回帰 + L2正則化\n",
    "\n",
    "## 理論\n",
    "\n",
    "学習データを$(x_i, y_i)_{i=1}^n,\\  x_i\\in \\mathbb{R}^2,\\ y_i\\in \\{-1,1\\}$とする。\n",
    "$$J\\colon \\mathbb{R}^2\\to \\mathbb{R}$$\n",
    "$$J(w) = \\frac{1}{n}\\sum_{i=1}^n (\\ln (1 + \\exp(-y_iw^\\top x_i)))  +\\lambda w^\\top w$$\n",
    "としたとき、\n",
    "$$\\hat w = \\arg\\min_w J(w)$$\n",
    "を求める。解析解は求められないので、最急降下法とニュートン法で上記の最適解を求める。\n",
    "\n",
    "なお、$\\mathrm{\\sigma}(x) = 1/(1 + \\exp(-x))$ (シグモイド関数)とすると\n",
    "$$J(w) = -\\frac{1}{n}\\sum_{i=1}^n \\log\\sigma(y_iw^\\top x) + \\lambda w^\\top w$$\n",
    "と表せる。\n",
    "\n",
    "時刻$t\\in\\mathbb{N}$における(最急降下法またはニュートン法の)更新を\n",
    "$$w^{(t+1)} = w^{(t)} + \\alpha^{(t)}d^{(t)}$$\n",
    "とする。今回は簡単のため、$\\alpha^{(t)}$は$t$によらない定数とする。(課題資料より)\n",
    "\n",
    "### 最急降下法の式\n",
    "$$d^{(t)} = -\\nabla J(w^{(t)})$$\n",
    "で求められる。\n",
    "\n",
    "$$\\nabla J(w) =  -\\frac{1}{n}\\sum_{i=1}^n [1-\\sigma(y_iw^\\top x)]y_ix_i + 2\\lambda w$$\n",
    "である。\n",
    "\n",
    "$\\lVert \\nabla J(w_1) - J(w_2)\\rVert \\leq 2\\lambda \\lVert w_1 - w_2\\rVert$ より、$\\nabla J$はリプシッツ定数として$2\\lambda$が取れるリプシッツ連続関数である。そこで、学習率は$\\alpha^{(t)} = 1/(2\\lambda)$とする。\n",
    "\n",
    "### ニュートン法の式\n",
    "$$d^{(t)} = -(\\nabla^2 J(w^{(t)}))^{-1} \\nabla J(w^{(t)})$$\n",
    "で求められる。\n",
    "\n",
    "$$\\nabla^2 J(w) = \\frac{1}{n} \\sum_{i=1}^n \\sigma(y_iw^\\top x_i) (1- \\sigma(y_iw^\\top x_i)) x_ix_i^\\top + 2\\lambda I$$\n",
    "である。 ($I$は単位行列)\n",
    "\n",
    "学習率は$\\alpha^{(t)} = 1$とする"
   ]
  },
  {
   "cell_type": "markdown",
   "metadata": {},
   "source": [
    "## データセットの作成\n",
    "教師データ$(x_i, y_i)_{i=1}^n$\n",
    "$x_i\\in \\mathbb{R}^2,\\ y_i\\in \\{-1,1\\}$\n",
    "\n"
   ]
  },
  {
   "cell_type": "code",
   "execution_count": 307,
   "metadata": {},
   "outputs": [],
   "source": [
    "import numpy as np\n",
    "import matplotlib.pyplot as plt"
   ]
  },
  {
   "cell_type": "code",
   "execution_count": 308,
   "metadata": {},
   "outputs": [],
   "source": [
    "from collections import namedtuple\n",
    "Entry = namedtuple('Entry', ('x', 'y'))"
   ]
  },
  {
   "cell_type": "code",
   "execution_count": 309,
   "metadata": {
    "scrolled": true
   },
   "outputs": [],
   "source": [
    "from numpy.random import *\n",
    "\n",
    "seed(1000) # 再現性のために乱数のシード固定\n",
    "n= 40\n",
    "omega = randn(1,1) # 境界線の傾きのようなもの\n",
    "noise = 0.8 * randn(n,1)\n",
    "\n",
    "x = randn(n,2)\n",
    "y = 2 * (omega * x[: , 0:1] + x[: , 1:2]   + noise > 0) - 1\n",
    "# x[:, 0]だと1次元のベクトルが出てきて、行列演算が適用できない。\n",
    "# x[:,0:1]とすることで0列目をn行1列の行列として抽出できる。\n",
    "\n",
    "data = [Entry(elem[0].reshape(2,1), elem[1]) for elem in zip(list(x), list(y))]"
   ]
  },
  {
   "cell_type": "code",
   "execution_count": 310,
   "metadata": {
    "scrolled": false
   },
   "outputs": [
    {
     "data": {
      "image/png": "[encoded data removed]",
      "text/plain": [
       "<Figure size 432x288 with 1 Axes>"
      ]
     },
     "metadata": {},
     "output_type": "display_data"
    }
   ],
   "source": [
    "# 学習データをプロットする\n",
    "\n",
    "# y=-1とy=1でデータセットを分離する\n",
    "\n",
    "# y=1のデータ\n",
    "data_p1 = [elem.x for elem in data if elem.y == 1]\n",
    "# y=-1のデータ\n",
    "data_m1 = [elem.x for elem in data if elem.y == -1]\n",
    "\n",
    "# xの第1成分と第2成分を分離\n",
    "data_p1x1 = [x[0] for x in data_p1]\n",
    "data_p1x2 = [x[1] for x in data_p1]\n",
    "data_m1x1 = [x[0] for x in data_m1]\n",
    "data_m1x2 = [x[1] for x in data_m1]\n",
    "\n",
    "fig = plt.figure()\n",
    "ax = fig.add_subplot(1,1,1)\n",
    "\n",
    "ax.scatter(data_p1x1,data_p1x2, c='red', label='y=1')\n",
    "ax.scatter(data_m1x1, data_m1x2, c='blue', label='y=-1')\n",
    "\n",
    "ax.set_title('learning data')\n",
    "ax.set_xlabel('$X_1$')\n",
    "ax.set_ylabel('$X_2$')\n",
    "ax.legend(loc='upper right');\n",
    "fig.savefig('learning_data.png')"
   ]
  },
  {
   "cell_type": "markdown",
   "metadata": {},
   "source": [
    "## 損失関数 + 正則化項\n",
    "$\\sigma(x) = 1/(1 + \\exp(-x))$(シグモイド関数)としたとき\n",
    "$$J(w) = -\\frac{1}{n}\\sum_{i=1}^n \\log\\sigma(y_iw^\\top x_i) + \\lambda w^\\top w$$\n",
    "今回、$\\lambda=1$とする。"
   ]
  },
  {
   "cell_type": "code",
   "execution_count": 311,
   "metadata": {},
   "outputs": [],
   "source": [
    "def sigmoid(x):\n",
    "    return 1/(1 + np.exp(-x))"
   ]
  },
  {
   "cell_type": "code",
   "execution_count": 312,
   "metadata": {},
   "outputs": [],
   "source": [
    "# 正則化項\n",
    "lam = 1"
   ]
  },
  {
   "cell_type": "code",
   "execution_count": 313,
   "metadata": {},
   "outputs": [],
   "source": [
    "# Jの定義\n",
    "# wはベクトル\n",
    "def J(w):\n",
    "    # 総和の項の計算\n",
    "    def f(entry):\n",
    "        x = entry.x\n",
    "        y = entry.y\n",
    "        ywx = y * np.matmul(w.T, x)\n",
    "        return np.log(sigmoid(ywx))\n",
    "    return -(1/n) * sum([f(entry) for entry in data]) + lam * np.matmul(w.T, w)\n"
   ]
  },
  {
   "cell_type": "markdown",
   "metadata": {},
   "source": [
    "## 最急降下法の実装\n",
    "$$\\nabla J(w) =  -\\frac{1}{n}\\sum_{i=1}^n [1-\\sigma(y_iw^\\top x)]y_ix_i + 2\\lambda w$$\n",
    "$$d^{(t)} = -\\nabla J(w^{(t)})$$\n"
   ]
  },
  {
   "cell_type": "code",
   "execution_count": 314,
   "metadata": {},
   "outputs": [],
   "source": [
    "# ∇Jの定義\n",
    "def nablaJ(w):\n",
    "    def f(entry):\n",
    "        x = entry.x\n",
    "        y = entry.y\n",
    "        ywx = y * np.matmul(w.T, x)\n",
    "        return (1-sigmoid(ywx)) * y * x\n",
    "    return -(1/n) * sum([f(entry) for entry in data]) + 2 * lam * w\n",
    "    "
   ]
  },
  {
   "cell_type": "code",
   "execution_count": 315,
   "metadata": {},
   "outputs": [],
   "source": [
    "# 更新ベクトルの計算 (w(t+1)= w(t) + alpha(t) d(t) のd(t))\n",
    "def delta(w):\n",
    "     return - nablaJ(w)\n",
    "\n",
    "alpha = 1/(2 * lam) # ∇Jのリプシッツ定数の逆数"
   ]
  },
  {
   "cell_type": "code",
   "execution_count": 316,
   "metadata": {
    "scrolled": true
   },
   "outputs": [
    {
     "name": "stdout",
     "output_type": "stream",
     "text": [
      "w, j\n",
      "[[0.]\n",
      " [0.]] [[0.69314718]]\n",
      "[[-0.16131332]\n",
      " [ 0.21357596]] [[0.63683859]]\n",
      "[[-0.12919059]\n",
      " [ 0.16718733]] [[0.63429437]]\n",
      "[[-0.13539802]\n",
      " [ 0.17675412]] [[0.634191]]\n",
      "[[-0.13416339]\n",
      " [ 0.17476811]] [[0.63418665]]\n",
      "[[-0.13441071]\n",
      " [ 0.17517782]] [[0.63418647]]\n",
      "[[-0.13436079]\n",
      " [ 0.17509347]] [[0.63418646]]\n",
      "[[-0.13437091]\n",
      " [ 0.1751108 ]] [[0.63418646]]\n",
      "[[-0.13436885]\n",
      " [ 0.17510725]] [[0.63418646]]\n",
      "[[-0.13436927]\n",
      " [ 0.17510798]] [[0.63418646]]\n",
      "[[-0.13436919]\n",
      " [ 0.17510783]] [[0.63418646]]\n",
      "[[-0.1343692 ]\n",
      " [ 0.17510786]] [[0.63418646]]\n",
      "[[-0.1343692 ]\n",
      " [ 0.17510785]] [[0.63418646]]\n",
      "[[-0.1343692 ]\n",
      " [ 0.17510785]] [[0.63418646]]\n",
      "[[-0.1343692 ]\n",
      " [ 0.17510785]] [[0.63418646]]\n",
      "[[-0.1343692 ]\n",
      " [ 0.17510785]] [[0.63418646]]\n",
      "[[-0.1343692 ]\n",
      " [ 0.17510785]] [[0.63418646]]\n",
      "[[-0.1343692 ]\n",
      " [ 0.17510785]] [[0.63418646]]\n",
      "[[-0.1343692 ]\n",
      " [ 0.17510785]] [[0.63418646]]\n",
      "[[-0.1343692 ]\n",
      " [ 0.17510785]] [[0.63418646]]\n",
      "[[-0.1343692 ]\n",
      " [ 0.17510785]] [[0.63418646]]\n",
      "[[-0.1343692 ]\n",
      " [ 0.17510785]] [[0.63418646]]\n",
      "[[-0.1343692 ]\n",
      " [ 0.17510785]] [[0.63418646]]\n",
      "[[-0.1343692 ]\n",
      " [ 0.17510785]] [[0.63418646]]\n",
      "[[-0.1343692 ]\n",
      " [ 0.17510785]] [[0.63418646]]\n",
      "[[-0.1343692 ]\n",
      " [ 0.17510785]] [[0.63418646]]\n",
      "[[-0.1343692 ]\n",
      " [ 0.17510785]] [[0.63418646]]\n",
      "[[-0.1343692 ]\n",
      " [ 0.17510785]] [[0.63418646]]\n",
      "[[-0.1343692 ]\n",
      " [ 0.17510785]] [[0.63418646]]\n",
      "[[-0.1343692 ]\n",
      " [ 0.17510785]] [[0.63418646]]\n",
      "[[-0.1343692 ]\n",
      " [ 0.17510785]] [[0.63418646]]\n",
      "[[-0.1343692 ]\n",
      " [ 0.17510785]] [[0.63418646]]\n",
      "[[-0.1343692 ]\n",
      " [ 0.17510785]] [[0.63418646]]\n",
      "[[-0.1343692 ]\n",
      " [ 0.17510785]] [[0.63418646]]\n",
      "[[-0.1343692 ]\n",
      " [ 0.17510785]] [[0.63418646]]\n",
      "[[-0.1343692 ]\n",
      " [ 0.17510785]] [[0.63418646]]\n",
      "[[-0.1343692 ]\n",
      " [ 0.17510785]] [[0.63418646]]\n",
      "[[-0.1343692 ]\n",
      " [ 0.17510785]] [[0.63418646]]\n",
      "[[-0.1343692 ]\n",
      " [ 0.17510785]] [[0.63418646]]\n",
      "[[-0.1343692 ]\n",
      " [ 0.17510785]] [[0.63418646]]\n",
      "[[-0.1343692 ]\n",
      " [ 0.17510785]] [[0.63418646]]\n",
      "[[-0.1343692 ]\n",
      " [ 0.17510785]] [[0.63418646]]\n",
      "[[-0.1343692 ]\n",
      " [ 0.17510785]] [[0.63418646]]\n",
      "[[-0.1343692 ]\n",
      " [ 0.17510785]] [[0.63418646]]\n",
      "[[-0.1343692 ]\n",
      " [ 0.17510785]] [[0.63418646]]\n",
      "[[-0.1343692 ]\n",
      " [ 0.17510785]] [[0.63418646]]\n",
      "[[-0.1343692 ]\n",
      " [ 0.17510785]] [[0.63418646]]\n",
      "[[-0.1343692 ]\n",
      " [ 0.17510785]] [[0.63418646]]\n",
      "[[-0.1343692 ]\n",
      " [ 0.17510785]] [[0.63418646]]\n",
      "[[-0.1343692 ]\n",
      " [ 0.17510785]] [[0.63418646]]\n",
      "[[-0.1343692 ]\n",
      " [ 0.17510785]] [[0.63418646]]\n",
      "[[-0.1343692 ]\n",
      " [ 0.17510785]] [[0.63418646]]\n",
      "[[-0.1343692 ]\n",
      " [ 0.17510785]] [[0.63418646]]\n",
      "[[-0.1343692 ]\n",
      " [ 0.17510785]] [[0.63418646]]\n",
      "[[-0.1343692 ]\n",
      " [ 0.17510785]] [[0.63418646]]\n",
      "[[-0.1343692 ]\n",
      " [ 0.17510785]] [[0.63418646]]\n",
      "[[-0.1343692 ]\n",
      " [ 0.17510785]] [[0.63418646]]\n",
      "[[-0.1343692 ]\n",
      " [ 0.17510785]] [[0.63418646]]\n",
      "[[-0.1343692 ]\n",
      " [ 0.17510785]] [[0.63418646]]\n",
      "[[-0.1343692 ]\n",
      " [ 0.17510785]] [[0.63418646]]\n",
      "[[-0.1343692 ]\n",
      " [ 0.17510785]] [[0.63418646]]\n",
      "[[-0.1343692 ]\n",
      " [ 0.17510785]] [[0.63418646]]\n",
      "[[-0.1343692 ]\n",
      " [ 0.17510785]] [[0.63418646]]\n",
      "[[-0.1343692 ]\n",
      " [ 0.17510785]] [[0.63418646]]\n",
      "[[-0.1343692 ]\n",
      " [ 0.17510785]] [[0.63418646]]\n",
      "[[-0.1343692 ]\n",
      " [ 0.17510785]] [[0.63418646]]\n",
      "[[-0.1343692 ]\n",
      " [ 0.17510785]] [[0.63418646]]\n",
      "[[-0.1343692 ]\n",
      " [ 0.17510785]] [[0.63418646]]\n",
      "[[-0.1343692 ]\n",
      " [ 0.17510785]] [[0.63418646]]\n",
      "[[-0.1343692 ]\n",
      " [ 0.17510785]] [[0.63418646]]\n",
      "[[-0.1343692 ]\n",
      " [ 0.17510785]] [[0.63418646]]\n",
      "[[-0.1343692 ]\n",
      " [ 0.17510785]] [[0.63418646]]\n",
      "[[-0.1343692 ]\n",
      " [ 0.17510785]] [[0.63418646]]\n",
      "[[-0.1343692 ]\n",
      " [ 0.17510785]] [[0.63418646]]\n",
      "[[-0.1343692 ]\n",
      " [ 0.17510785]] [[0.63418646]]\n",
      "[[-0.1343692 ]\n",
      " [ 0.17510785]] [[0.63418646]]\n",
      "[[-0.1343692 ]\n",
      " [ 0.17510785]] [[0.63418646]]\n",
      "[[-0.1343692 ]\n",
      " [ 0.17510785]] [[0.63418646]]\n",
      "[[-0.1343692 ]\n",
      " [ 0.17510785]] [[0.63418646]]\n",
      "[[-0.1343692 ]\n",
      " [ 0.17510785]] [[0.63418646]]\n",
      "[[-0.1343692 ]\n",
      " [ 0.17510785]] [[0.63418646]]\n",
      "[[-0.1343692 ]\n",
      " [ 0.17510785]] [[0.63418646]]\n",
      "[[-0.1343692 ]\n",
      " [ 0.17510785]] [[0.63418646]]\n",
      "[[-0.1343692 ]\n",
      " [ 0.17510785]] [[0.63418646]]\n",
      "[[-0.1343692 ]\n",
      " [ 0.17510785]] [[0.63418646]]\n",
      "[[-0.1343692 ]\n",
      " [ 0.17510785]] [[0.63418646]]\n",
      "[[-0.1343692 ]\n",
      " [ 0.17510785]] [[0.63418646]]\n",
      "[[-0.1343692 ]\n",
      " [ 0.17510785]] [[0.63418646]]\n",
      "[[-0.1343692 ]\n",
      " [ 0.17510785]] [[0.63418646]]\n",
      "[[-0.1343692 ]\n",
      " [ 0.17510785]] [[0.63418646]]\n",
      "[[-0.1343692 ]\n",
      " [ 0.17510785]] [[0.63418646]]\n",
      "[[-0.1343692 ]\n",
      " [ 0.17510785]] [[0.63418646]]\n",
      "[[-0.1343692 ]\n",
      " [ 0.17510785]] [[0.63418646]]\n",
      "[[-0.1343692 ]\n",
      " [ 0.17510785]] [[0.63418646]]\n",
      "[[-0.1343692 ]\n",
      " [ 0.17510785]] [[0.63418646]]\n",
      "[[-0.1343692 ]\n",
      " [ 0.17510785]] [[0.63418646]]\n",
      "[[-0.1343692 ]\n",
      " [ 0.17510785]] [[0.63418646]]\n",
      "[[-0.1343692 ]\n",
      " [ 0.17510785]] [[0.63418646]]\n",
      "[[-0.1343692 ]\n",
      " [ 0.17510785]] [[0.63418646]]\n",
      "[[-0.1343692 ]\n",
      " [ 0.17510785]] [[0.63418646]]\n"
     ]
    }
   ],
   "source": [
    "numIterations = 100\n",
    "wlist = []\n",
    "w0 = np.array([[0.0],[0.0]])# wの初期値\n",
    "wlist.append(w0)\n",
    "\n",
    "for i in range(1, numIterations):\n",
    "    wold = wlist[i-1]\n",
    "    wnew = wold + alpha * delta(wold)\n",
    "    wlist.append(wnew)\n",
    "\n",
    "wresult = wlist[-1] # 再急降下法の結果\n",
    "\n",
    "print(\"w, j\")\n",
    "\n",
    "jlist = [J(w) for w in wlist]\n",
    "for w, j in zip(wlist, jlist):\n",
    "    print(w,j)\n"
   ]
  },
  {
   "cell_type": "code",
   "execution_count": 320,
   "metadata": {},
   "outputs": [
    {
     "data": {
      "image/png": "[encoded data removed]",
      "text/plain": [
       "<Figure size 432x288 with 1 Axes>"
      ]
     },
     "metadata": {},
     "output_type": "display_data"
    }
   ],
   "source": [
    "# wの収束の様子\n",
    "\n",
    "w1list = [w[0] for w in wlist]\n",
    "w2list = [w[1] for w in wlist]\n",
    "\n",
    "fig = plt.figure()\n",
    "ax = fig.add_subplot(1,1,1)\n",
    "ax.scatter(w1list, w2list, s=10)\n",
    "\n",
    "ax.set_title('movement of w')\n",
    "ax.set_xlabel('$w_1$')\n",
    "ax.set_ylabel('$w_2$');\n"
   ]
  },
  {
   "cell_type": "code",
   "execution_count": 321,
   "metadata": {},
   "outputs": [
    {
     "data": {
      "image/png": "[encoded data removed]",
      "text/plain": [
       "<Figure size 432x288 with 1 Axes>"
      ]
     },
     "metadata": {},
     "output_type": "display_data"
    }
   ],
   "source": [
    "# J(w)の収束の様子\n",
    "iteration = range(0,numIterations)\n",
    "\n",
    "fig = plt.figure()\n",
    "ax = fig.add_subplot(1,1,1)\n",
    "ax.scatter(iteration, jlist, s=5)\n",
    "\n",
    "ax.set_title('movement of $J(w^{(t)})$')\n",
    "ax.set_xlabel('$t$')\n",
    "ax.set_ylabel('$J(w^{(t)})$');\n"
   ]
  },
  {
   "cell_type": "code",
   "execution_count": 322,
   "metadata": {},
   "outputs": [
    {
     "name": "stderr",
     "output_type": "stream",
     "text": [
      "/Users/paruma/anaconda3/lib/python3.6/site-packages/ipykernel_launcher.py:3: RuntimeWarning: divide by zero encountered in log10\n",
      "  This is separate from the ipykernel package so we can avoid doing imports until\n"
     ]
    },
    {
     "data": {
      "image/png": "[encoded data removed]",
      "text/plain": [
       "<Figure size 432x288 with 1 Axes>"
      ]
     },
     "metadata": {},
     "output_type": "display_data"
    }
   ],
   "source": [
    "# 収束値をw*としたときのlog |J(w(t)) - J(w*)| (対数誤差)のグラフ\n",
    "\n",
    "logerror = [np.log10(np.abs(j - J(wresult))) for j in jlist]\n",
    "\n",
    "fig = plt.figure()\n",
    "ax = fig.add_subplot(1,1,1)\n",
    "ax.scatter(iteration, logerror, s=5)\n",
    "\n",
    "ax.set_title('movement of log error')\n",
    "ax.set_xlabel('$t$')\n",
    "ax.set_ylabel('log error');\n"
   ]
  },
  {
   "cell_type": "markdown",
   "metadata": {},
   "source": [
    "0ステップ目から10ステップ目を見ると、対数誤差はステップ数に対して線形の速さで小さくなっていることがわかる。\n",
    "$11$ステップ目以降不規則な挙動をしている。(プロットされていない$t=11,16,21$と$t\\geq 23$については計算結果が$\\mathrm{inf}$となった。$\\mathrm{inf}$となったのは、誤差$|J(\\hat w) - J(w^{(t)})|$が$0$になったからである。)\n",
    "そのことについて説明する。\\\\\n",
    "$\\nabla J(w) = -(1/n) \\sum_{i=1}^n [1-\\sigma(y_iw^\\top x_i)]y_ix_i + 2\\lambda w$の計算で、$t$が十分大きいとき、$(1/n) \\sum_{i=1}^n [1-\\sigma(y_i w^\\top x)]y_ix_i$と$2\\lambda w$がほとんど等しいため、この2つの値の引き算でアンダーフローが発生している。\n",
    "数値計算では64bitの浮動小数点を使っているため、有効数字は15桁程度である。\n",
    "$(1/n) \\sum_{i=1}^n [1-\\sigma(y_i w^\\top x)]y_ix_i$と$2\\lambda w$は$10^{-1}$のオーダーの値なので、$\\nabla J(w)$絶対値がは$10^{-16}$(程度)未満の場合正しく計算することができない。これが$11$ステップ目以降不規則な挙動をする原因である。"
   ]
  },
  {
   "cell_type": "code",
   "execution_count": 325,
   "metadata": {
    "scrolled": true
   },
   "outputs": [
    {
     "data": {
      "image/png": "[encoded data removed]",
      "text/plain": [
       "<Figure size 432x288 with 1 Axes>"
      ]
     },
     "metadata": {},
     "output_type": "display_data"
    }
   ],
   "source": [
    "# 学習データ + 識別線\n",
    "\n",
    "fig = plt.figure()\n",
    "ax = fig.add_subplot(1,1,1)\n",
    "\n",
    "# 学習データ\n",
    "ax.scatter(data_p1x1,data_p1x2, c='red', label='y=1')\n",
    "ax.scatter(data_m1x1, data_m1x2, c='blue', label='y=-1')\n",
    "\n",
    "ax.set_title('learning data & discrimination line')\n",
    "ax.set_xlabel('$X_1$')\n",
    "ax.set_ylabel('$X_2$')\n",
    "ax.legend(loc='upper right');\n",
    "\n",
    "# 識別線\n",
    "linex = np.arange(-2,3,0.01)\n",
    "# w1*x + w2*y = 0より、y = -(w1/w2)x が識別線\n",
    "liney = -wresult[0]/wresult[1] * linex\n",
    "ax.scatter(linex, liney,c='green', s=5);\n"
   ]
  },
  {
   "cell_type": "markdown",
   "metadata": {},
   "source": [
    "## ニュートン法の実装\n",
    "$$\\nabla^2 J(w) = \\frac{1}{n} \\sum_{i=1}^n \\sigma(y_iw^\\top x_i) (1- \\sigma(y_iw^\\top x_i)) x_ix_i^\\top + 2\\lambda I$$\n",
    "$$d^{(t)} = -(\\nabla^2 J(w^{(t)}))^{-1} \\nabla J(w^{(t)})$$"
   ]
  },
  {
   "cell_type": "code",
   "execution_count": 326,
   "metadata": {},
   "outputs": [],
   "source": [
    "def hessianJ(w):\n",
    "    # 総和の項\n",
    "    def f(entry):\n",
    "        x = entry.x\n",
    "        y = entry.y\n",
    "        ywx =  y * np.matmul(w.T,x)\n",
    "        return sigmoid(ywx) * (1-sigmoid(ywx)) * np.matmul(x, x.T)\n",
    "    return (1/n) * sum([f(entry) for entry in data] + 2 * lam * np.eye(2))"
   ]
  },
  {
   "cell_type": "code",
   "execution_count": 327,
   "metadata": {},
   "outputs": [],
   "source": [
    "def delta(w):\n",
    "    return -np.matmul(np.linalg.inv(hessianJ(w)), nablaJ(w))\n",
    "\n",
    "alpha = 1 # 学習率"
   ]
  },
  {
   "cell_type": "code",
   "execution_count": 328,
   "metadata": {
    "scrolled": true
   },
   "outputs": [
    {
     "name": "stdout",
     "output_type": "stream",
     "text": [
      "w, j\n",
      "[[0]\n",
      " [0]] [[0.69314718]]\n",
      "[[-0.13383627]\n",
      " [ 0.17443294]] [[0.63418735]]\n",
      "[[-0.13436918]\n",
      " [ 0.17510782]] [[0.63418646]]\n",
      "[[-0.1343692 ]\n",
      " [ 0.17510785]] [[0.63418646]]\n",
      "[[-0.1343692 ]\n",
      " [ 0.17510785]] [[0.63418646]]\n",
      "[[-0.1343692 ]\n",
      " [ 0.17510785]] [[0.63418646]]\n",
      "[[-0.1343692 ]\n",
      " [ 0.17510785]] [[0.63418646]]\n",
      "[[-0.1343692 ]\n",
      " [ 0.17510785]] [[0.63418646]]\n",
      "[[-0.1343692 ]\n",
      " [ 0.17510785]] [[0.63418646]]\n",
      "[[-0.1343692 ]\n",
      " [ 0.17510785]] [[0.63418646]]\n",
      "[[-0.1343692 ]\n",
      " [ 0.17510785]] [[0.63418646]]\n",
      "[[-0.1343692 ]\n",
      " [ 0.17510785]] [[0.63418646]]\n",
      "[[-0.1343692 ]\n",
      " [ 0.17510785]] [[0.63418646]]\n",
      "[[-0.1343692 ]\n",
      " [ 0.17510785]] [[0.63418646]]\n",
      "[[-0.1343692 ]\n",
      " [ 0.17510785]] [[0.63418646]]\n",
      "[[-0.1343692 ]\n",
      " [ 0.17510785]] [[0.63418646]]\n",
      "[[-0.1343692 ]\n",
      " [ 0.17510785]] [[0.63418646]]\n",
      "[[-0.1343692 ]\n",
      " [ 0.17510785]] [[0.63418646]]\n",
      "[[-0.1343692 ]\n",
      " [ 0.17510785]] [[0.63418646]]\n",
      "[[-0.1343692 ]\n",
      " [ 0.17510785]] [[0.63418646]]\n",
      "[[-0.1343692 ]\n",
      " [ 0.17510785]] [[0.63418646]]\n",
      "[[-0.1343692 ]\n",
      " [ 0.17510785]] [[0.63418646]]\n",
      "[[-0.1343692 ]\n",
      " [ 0.17510785]] [[0.63418646]]\n",
      "[[-0.1343692 ]\n",
      " [ 0.17510785]] [[0.63418646]]\n",
      "[[-0.1343692 ]\n",
      " [ 0.17510785]] [[0.63418646]]\n",
      "[[-0.1343692 ]\n",
      " [ 0.17510785]] [[0.63418646]]\n",
      "[[-0.1343692 ]\n",
      " [ 0.17510785]] [[0.63418646]]\n",
      "[[-0.1343692 ]\n",
      " [ 0.17510785]] [[0.63418646]]\n",
      "[[-0.1343692 ]\n",
      " [ 0.17510785]] [[0.63418646]]\n",
      "[[-0.1343692 ]\n",
      " [ 0.17510785]] [[0.63418646]]\n",
      "[[-0.1343692 ]\n",
      " [ 0.17510785]] [[0.63418646]]\n",
      "[[-0.1343692 ]\n",
      " [ 0.17510785]] [[0.63418646]]\n",
      "[[-0.1343692 ]\n",
      " [ 0.17510785]] [[0.63418646]]\n",
      "[[-0.1343692 ]\n",
      " [ 0.17510785]] [[0.63418646]]\n",
      "[[-0.1343692 ]\n",
      " [ 0.17510785]] [[0.63418646]]\n",
      "[[-0.1343692 ]\n",
      " [ 0.17510785]] [[0.63418646]]\n",
      "[[-0.1343692 ]\n",
      " [ 0.17510785]] [[0.63418646]]\n",
      "[[-0.1343692 ]\n",
      " [ 0.17510785]] [[0.63418646]]\n",
      "[[-0.1343692 ]\n",
      " [ 0.17510785]] [[0.63418646]]\n",
      "[[-0.1343692 ]\n",
      " [ 0.17510785]] [[0.63418646]]\n",
      "[[-0.1343692 ]\n",
      " [ 0.17510785]] [[0.63418646]]\n",
      "[[-0.1343692 ]\n",
      " [ 0.17510785]] [[0.63418646]]\n",
      "[[-0.1343692 ]\n",
      " [ 0.17510785]] [[0.63418646]]\n",
      "[[-0.1343692 ]\n",
      " [ 0.17510785]] [[0.63418646]]\n",
      "[[-0.1343692 ]\n",
      " [ 0.17510785]] [[0.63418646]]\n",
      "[[-0.1343692 ]\n",
      " [ 0.17510785]] [[0.63418646]]\n",
      "[[-0.1343692 ]\n",
      " [ 0.17510785]] [[0.63418646]]\n",
      "[[-0.1343692 ]\n",
      " [ 0.17510785]] [[0.63418646]]\n",
      "[[-0.1343692 ]\n",
      " [ 0.17510785]] [[0.63418646]]\n",
      "[[-0.1343692 ]\n",
      " [ 0.17510785]] [[0.63418646]]\n",
      "[[-0.1343692 ]\n",
      " [ 0.17510785]] [[0.63418646]]\n",
      "[[-0.1343692 ]\n",
      " [ 0.17510785]] [[0.63418646]]\n",
      "[[-0.1343692 ]\n",
      " [ 0.17510785]] [[0.63418646]]\n",
      "[[-0.1343692 ]\n",
      " [ 0.17510785]] [[0.63418646]]\n",
      "[[-0.1343692 ]\n",
      " [ 0.17510785]] [[0.63418646]]\n",
      "[[-0.1343692 ]\n",
      " [ 0.17510785]] [[0.63418646]]\n",
      "[[-0.1343692 ]\n",
      " [ 0.17510785]] [[0.63418646]]\n",
      "[[-0.1343692 ]\n",
      " [ 0.17510785]] [[0.63418646]]\n",
      "[[-0.1343692 ]\n",
      " [ 0.17510785]] [[0.63418646]]\n",
      "[[-0.1343692 ]\n",
      " [ 0.17510785]] [[0.63418646]]\n",
      "[[-0.1343692 ]\n",
      " [ 0.17510785]] [[0.63418646]]\n",
      "[[-0.1343692 ]\n",
      " [ 0.17510785]] [[0.63418646]]\n",
      "[[-0.1343692 ]\n",
      " [ 0.17510785]] [[0.63418646]]\n",
      "[[-0.1343692 ]\n",
      " [ 0.17510785]] [[0.63418646]]\n",
      "[[-0.1343692 ]\n",
      " [ 0.17510785]] [[0.63418646]]\n",
      "[[-0.1343692 ]\n",
      " [ 0.17510785]] [[0.63418646]]\n",
      "[[-0.1343692 ]\n",
      " [ 0.17510785]] [[0.63418646]]\n",
      "[[-0.1343692 ]\n",
      " [ 0.17510785]] [[0.63418646]]\n",
      "[[-0.1343692 ]\n",
      " [ 0.17510785]] [[0.63418646]]\n",
      "[[-0.1343692 ]\n",
      " [ 0.17510785]] [[0.63418646]]\n",
      "[[-0.1343692 ]\n",
      " [ 0.17510785]] [[0.63418646]]\n",
      "[[-0.1343692 ]\n",
      " [ 0.17510785]] [[0.63418646]]\n",
      "[[-0.1343692 ]\n",
      " [ 0.17510785]] [[0.63418646]]\n",
      "[[-0.1343692 ]\n",
      " [ 0.17510785]] [[0.63418646]]\n",
      "[[-0.1343692 ]\n",
      " [ 0.17510785]] [[0.63418646]]\n",
      "[[-0.1343692 ]\n",
      " [ 0.17510785]] [[0.63418646]]\n",
      "[[-0.1343692 ]\n",
      " [ 0.17510785]] [[0.63418646]]\n",
      "[[-0.1343692 ]\n",
      " [ 0.17510785]] [[0.63418646]]\n",
      "[[-0.1343692 ]\n",
      " [ 0.17510785]] [[0.63418646]]\n",
      "[[-0.1343692 ]\n",
      " [ 0.17510785]] [[0.63418646]]\n",
      "[[-0.1343692 ]\n",
      " [ 0.17510785]] [[0.63418646]]\n",
      "[[-0.1343692 ]\n",
      " [ 0.17510785]] [[0.63418646]]\n",
      "[[-0.1343692 ]\n",
      " [ 0.17510785]] [[0.63418646]]\n",
      "[[-0.1343692 ]\n",
      " [ 0.17510785]] [[0.63418646]]\n",
      "[[-0.1343692 ]\n",
      " [ 0.17510785]] [[0.63418646]]\n",
      "[[-0.1343692 ]\n",
      " [ 0.17510785]] [[0.63418646]]\n",
      "[[-0.1343692 ]\n",
      " [ 0.17510785]] [[0.63418646]]\n",
      "[[-0.1343692 ]\n",
      " [ 0.17510785]] [[0.63418646]]\n",
      "[[-0.1343692 ]\n",
      " [ 0.17510785]] [[0.63418646]]\n",
      "[[-0.1343692 ]\n",
      " [ 0.17510785]] [[0.63418646]]\n",
      "[[-0.1343692 ]\n",
      " [ 0.17510785]] [[0.63418646]]\n",
      "[[-0.1343692 ]\n",
      " [ 0.17510785]] [[0.63418646]]\n",
      "[[-0.1343692 ]\n",
      " [ 0.17510785]] [[0.63418646]]\n",
      "[[-0.1343692 ]\n",
      " [ 0.17510785]] [[0.63418646]]\n",
      "[[-0.1343692 ]\n",
      " [ 0.17510785]] [[0.63418646]]\n",
      "[[-0.1343692 ]\n",
      " [ 0.17510785]] [[0.63418646]]\n",
      "[[-0.1343692 ]\n",
      " [ 0.17510785]] [[0.63418646]]\n",
      "[[-0.1343692 ]\n",
      " [ 0.17510785]] [[0.63418646]]\n",
      "[[-0.1343692 ]\n",
      " [ 0.17510785]] [[0.63418646]]\n",
      "[[-0.1343692 ]\n",
      " [ 0.17510785]] [[0.63418646]]\n"
     ]
    }
   ],
   "source": [
    "numIterations = 100\n",
    "wlist = []\n",
    "w0 = np.array([[0],[0]])# wの初期値\n",
    "wlist.append(w0)\n",
    "\n",
    "for i in range(1, numIterations):\n",
    "    wold = wlist[i-1]\n",
    "    wnew = wold + alpha * delta(wold)\n",
    "    wlist.append(wnew)\n",
    "\n",
    "wresult = wlist[-1] # 再急降下法の結果\n",
    "\n",
    "print(\"w, j\")\n",
    "\n",
    "jlist = [J(w) for w in wlist]\n",
    "for w, j in zip(wlist, jlist):\n",
    "    print(w,j)\n"
   ]
  },
  {
   "cell_type": "code",
   "execution_count": 334,
   "metadata": {
    "scrolled": true
   },
   "outputs": [
    {
     "data": {
      "image/png": "[encoded data removed]",
      "text/plain": [
       "<Figure size 432x288 with 1 Axes>"
      ]
     },
     "metadata": {},
     "output_type": "display_data"
    }
   ],
   "source": [
    "# wの収束の様子\n",
    "\n",
    "w1list = [w[0] for w in wlist]\n",
    "w2list = [w[1] for w in wlist]\n",
    "\n",
    "fig = plt.figure()\n",
    "ax = fig.add_subplot(1,1,1)\n",
    "ax.scatter(w1list, w2list, s=10)\n",
    "\n",
    "ax.set_title('movement of w')\n",
    "ax.set_xlabel('$w_1$')\n",
    "ax.set_ylabel('$w_2$');\n"
   ]
  },
  {
   "cell_type": "code",
   "execution_count": 336,
   "metadata": {},
   "outputs": [
    {
     "data": {
      "image/png": "[encoded data removed]",
      "text/plain": [
       "<Figure size 432x288 with 1 Axes>"
      ]
     },
     "metadata": {},
     "output_type": "display_data"
    }
   ],
   "source": [
    "# J(w)の収束の様子\n",
    "iteration = range(0,numIterations)\n",
    "\n",
    "fig = plt.figure()\n",
    "ax = fig.add_subplot(1,1,1)\n",
    "ax.scatter(iteration, jlist, s=5)\n",
    "\n",
    "ax.set_title('movement of $J(w^{(t)})$')\n",
    "ax.set_xlabel('$t$')\n",
    "ax.set_ylabel('$J(w^{(t)})$');\n"
   ]
  },
  {
   "cell_type": "code",
   "execution_count": 337,
   "metadata": {},
   "outputs": [
    {
     "name": "stderr",
     "output_type": "stream",
     "text": [
      "/Users/paruma/anaconda3/lib/python3.6/site-packages/ipykernel_launcher.py:3: RuntimeWarning: divide by zero encountered in log10\n",
      "  This is separate from the ipykernel package so we can avoid doing imports until\n"
     ]
    },
    {
     "data": {
      "image/png": "[encoded data removed]",
      "text/plain": [
       "<Figure size 432x288 with 1 Axes>"
      ]
     },
     "metadata": {},
     "output_type": "display_data"
    }
   ],
   "source": [
    "# 収束値をw*としたときのlog |J(w(t)) - J(w*)| (対数誤差)のグラフ\n",
    "\n",
    "logerror = [np.log10(np.abs(j - J(wresult))) for j in jlist]\n",
    "\n",
    "fig = plt.figure()\n",
    "ax = fig.add_subplot(1,1,1)\n",
    "# 4ステップ目以降は数値上J(w(t)) = J(w*)になっている。(数値上収束しきっている)\n",
    "ax.scatter(iteration, logerror, s=5)\n",
    "\n",
    "ax.set_title('movement of log error')\n",
    "ax.set_xlabel('$t$')\n",
    "ax.set_ylabel('log error');\n"
   ]
  },
  {
   "cell_type": "markdown",
   "metadata": {},
   "source": [
    "最急降下法より速く収束している。\n",
    "正しく計算できている0ステップ目から2ステップ目を見ると、対数誤差はステップ数に対して直線より速く小さくなっている(上に凸になっている)ことがわかる。"
   ]
  },
  {
   "cell_type": "code",
   "execution_count": 338,
   "metadata": {},
   "outputs": [
    {
     "data": {
      "image/png": "[encoded data removed]",
      "text/plain": [
       "<Figure size 432x288 with 1 Axes>"
      ]
     },
     "metadata": {},
     "output_type": "display_data"
    }
   ],
   "source": [
    "# 学習データ + 識別線\n",
    "\n",
    "fig = plt.figure()\n",
    "ax = fig.add_subplot(1,1,1)\n",
    "\n",
    "# 学習データ\n",
    "ax.scatter(data_p1x1,data_p1x2, c='red', label='y=1')\n",
    "ax.scatter(data_m1x1, data_m1x2, c='blue', label='y=-1')\n",
    "\n",
    "ax.set_title('learning data & discrimination line')\n",
    "ax.set_xlabel('$X_1$')\n",
    "ax.set_ylabel('$X_2$')\n",
    "ax.legend(loc='upper right');\n",
    "\n",
    "# 識別線\n",
    "linex = np.arange(-2,3,0.01)\n",
    "# w1*x + w2*y = 0より、y = -(w1/w2)x が識別線\n",
    "liney = -wresult[0]/wresult[1] * linex\n",
    "ax.scatter(linex, liney,c='green', s=5);\n",
    "fig.savefig('newton_result.png')"
   ]
  },
  {
   "cell_type": "markdown",
   "metadata": {},
   "source": [
    "## メモ\n",
    "* Python3.6.5\n",
    "\n"
   ]
  }
 ],
 "metadata": {
  "kernelspec": {
   "display_name": "Python 3",
   "language": "python",
   "name": "python3"
  },
  "language_info": {
   "codemirror_mode": {
    "name": "ipython",
    "version": 3
   },
   "file_extension": ".py",
   "mimetype": "text/x-python",
   "name": "python",
   "nbconvert_exporter": "python",
   "pygments_lexer": "ipython3",
   "version": "3.6.5"
  }
 },
 "nbformat": 4,
 "nbformat_minor": 2
}
