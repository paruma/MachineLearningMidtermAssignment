{
 "cells": [
  {
   "cell_type": "markdown",
   "metadata": {},
   "source": [
    "# Problem 1\n",
    "ロジスティック回帰 + L2正則化\n",
    "\n",
    "学習データを$x_i\\in \\mathbb{R}^2,\\ y_i\\in \\{-1,1\\}$とする。\n",
    "$$J\\colon \\mathbb{R}^2\\to \\mathbb{R}$$\n",
    "$$J(w) = \\frac{1}{n}\\sum_{i=1}^n (\\ln (1 + \\exp(-y_iw^\\top x_i)))  +\\lambda w^\\top w$$\n",
    "としたとき、\n",
    "$$\\hat w = \\arg\\min_w J(w)$$\n",
    "を求める。解析解は求められないので、最急降下法とニュートン法で上記の最適解を求める。\n",
    "\n",
    "時刻$t\\in\\mathbb{N}$における(最急降下法またはニュートン法の)更新を\n",
    "$$w^{(t+1)} = w^{(t)} + \\alpha^{(t)}d^{(t)}$$\n",
    "とする。今回は簡単のため、$\\alpha^{(t)}$は$t$によらない定数とする。(課題資料より)\n",
    "\n",
    "## 最急降下法の式\n",
    "$$d^{(t)} = -\\nabla J(w^{(t)})$$\n",
    "で求められる。なお、\n",
    "\n",
    "$$\\nabla J(w)  =  \\frac{1}{n}\\sum_{i=1}^n \\frac{-yx_i\\exp(-yw^\\top x_i)}{1 + \\exp(-yw^\\top x_i)} + 2\\lambda w$$\n",
    "\n",
    "である。\n",
    "\n",
    "\n",
    "\n",
    "## ニュートン法の式\n",
    "$$d^{(t)} = -(\\nabla^2 J(w^{(t)}))^{-1} \\nabla J(w^{(t)})$$"
   ]
  },
  {
   "cell_type": "markdown",
   "metadata": {},
   "source": [
    "## データセットの作成\n",
    "教師データ$(x_i, y_i)_{i=1}^n$\n",
    "$x_i\\in \\mathbb{R}^2,\\ y_i\\in \\{-1,1\\}$\n",
    "\n"
   ]
  },
  {
   "cell_type": "code",
   "execution_count": 279,
   "metadata": {},
   "outputs": [],
   "source": [
    "import numpy as np\n",
    "import matplotlib.pyplot as plt"
   ]
  },
  {
   "cell_type": "code",
   "execution_count": 280,
   "metadata": {},
   "outputs": [],
   "source": [
    "from collections import namedtuple\n",
    "Entry = namedtuple('Entry', ('x', 'y'))"
   ]
  },
  {
   "cell_type": "code",
   "execution_count": 281,
   "metadata": {
    "scrolled": true
   },
   "outputs": [],
   "source": [
    "from numpy.random import *\n",
    "\n",
    "seed(1000) # 再現性のためにシード固定\n",
    "n= 40\n",
    "omega = randn(1,1) # 境界線の傾きのようなもの\n",
    "noise = 0.8 * randn(n,1)\n",
    "\n",
    "x = randn(n,2)\n",
    "y = 2 * (omega * x[: , 0:1] + x[: , 1:2]   + noise > 0) - 1\n",
    "# x[:, 0]だと1次元のベクトルが出てきて、行列演算が適用できない。\n",
    "# x[:,0:1]とすることで0列目をn行1列の行列として抽出できる。\n",
    "\n",
    "data = [Entry(elem[0], elem[1]) for elem in zip(list(x), list(y))]"
   ]
  },
  {
   "cell_type": "code",
   "execution_count": 363,
   "metadata": {
    "scrolled": false
   },
   "outputs": [
    {
     "data": {
      "text/plain": [
       "<matplotlib.legend.Legend at 0x11adebeb8>"
      ]
     },
     "execution_count": 363,
     "metadata": {},
     "output_type": "execute_result"
    },
    {
     "data": {
      "image/png": "[encoded data removed]",
      "text/plain": [
       "<Figure size 432x288 with 1 Axes>"
      ]
     },
     "metadata": {},
     "output_type": "display_data"
    }
   ],
   "source": [
    "# プロットする\n",
    "\n",
    "# y=-1とy=1でデータセットを分離する\n",
    "\n",
    "# y=1のデータ\n",
    "data_p1 = [elem.x for elem in data if elem.y == 1]\n",
    "# y=-1のデータ\n",
    "data_m1 = [elem.x for elem in data if elem.y == -1]\n",
    "\n",
    "# xの第1成分と第2成分を分離\n",
    "data_p1x1 = [x[0] for x in data_p1]\n",
    "data_p1x2 = [x[1] for x in data_p1]\n",
    "data_m1x1 = [x[0] for x in data_m1]\n",
    "data_m1x2 = [x[1] for x in data_m1]\n",
    "\n",
    "fig = plt.figure()\n",
    "ax = fig.add_subplot(1,1,1)\n",
    "\n",
    "ax.scatter(data_p1x1,data_p1x2, c='red', label='y=1')\n",
    "ax.scatter(data_m1x1, data_m1x2, c='blue', label='y=-1')\n",
    "\n",
    "ax.set_title('learning data')\n",
    "ax.set_xlabel('$X_1$')\n",
    "ax.set_ylabel('$X_2$')\n",
    "ax.legend(loc='upper right')"
   ]
  },
  {
   "cell_type": "code",
   "execution_count": 371,
   "metadata": {},
   "outputs": [],
   "source": [
    "# 正則化項\n",
    "lam = 1"
   ]
  },
  {
   "cell_type": "code",
   "execution_count": 372,
   "metadata": {},
   "outputs": [],
   "source": [
    "# Jの定義\n",
    "# wはベクトル\n",
    "def J(w):\n",
    "    def f(entry):\n",
    "        x = entry.x\n",
    "        y = entry.y\n",
    "        return np.log(1 + np.exp(-y * np.dot(w, x)))\n",
    "    return (1/n) * sum([f(entry) for entry in data]) + lam * np.dot(w,w)\n"
   ]
  },
  {
   "cell_type": "markdown",
   "metadata": {},
   "source": [
    "## 最急降下法の実装"
   ]
  },
  {
   "cell_type": "code",
   "execution_count": 373,
   "metadata": {},
   "outputs": [],
   "source": [
    "# ∇Jの定義\n",
    "def nablaJ(w):\n",
    "    def f(entry):\n",
    "        x = entry.x\n",
    "        y = entry.y\n",
    "        exp_mywx = np.exp(-y * np.dot(w,x))\n",
    "        return (-y*x * exp_mywx)/(1 + exp_mywx)\n",
    "    return (1/n) * sum([f(entry) for entry in data] + 2 * lam * w)\n",
    "    "
   ]
  },
  {
   "cell_type": "code",
   "execution_count": 378,
   "metadata": {},
   "outputs": [],
   "source": [
    "# 更新ベクトルの計算 (w(t+1)= w(t) + alpha(t) d(t) のd(t))\n",
    "def delta(w):\n",
    "     return - nablaJ(w)\n",
    "\n",
    "alpha = 0.1 # tによらない定数とする。"
   ]
  },
  {
   "cell_type": "code",
   "execution_count": 390,
   "metadata": {
    "scrolled": true
   },
   "outputs": [
    {
     "name": "stdout",
     "output_type": "stream",
     "text": [
      "w, j\n",
      "[0 0] [0.69314718]\n",
      "[-0.03226266  0.04271519] [0.66798068]\n",
      "[-0.05674535  0.0749763 ] [0.65357338]\n",
      "[-0.07533217  0.09935001] [0.6453186]\n",
      "[-0.08945098  0.11777337] [0.64058403]\n",
      "[-0.10018186  0.13170561] [0.63786574]\n",
      "[-0.1083419   0.14224592] [0.63630369]\n",
      "[-0.11454965  0.15022283] [0.63540539]\n",
      "[-0.11927387  0.1562614 ] [0.63488849]\n",
      "[-0.12287016  0.16083358] [0.63459091]\n",
      "[-0.12560846  0.16429601] [0.63441952]\n",
      "[-0.12769389  0.16691834] [0.63432079]\n",
      "[-0.12928237  0.16890456] [0.6342639]\n",
      "[-0.13049248  0.17040906] [0.63423111]\n",
      "[-0.13141447  0.1715487 ] [0.6342122]\n",
      "[-0.13211701  0.17241198] [0.63420131]\n",
      "[-0.13265238  0.17306592] [0.63419502]\n",
      "[-0.13306039  0.17356127] [0.6341914]\n",
      "[-0.13337137  0.1739365 ] [0.63418931]\n",
      "[-0.13360841  0.17422072] [0.63418811]\n",
      "[-0.1337891  0.174436 ] [0.63418741]\n",
      "[-0.13392684  0.17459906] [0.63418701]\n",
      "[-0.13403186  0.17472256] [0.63418678]\n",
      "[-0.13411193  0.1748161 ] [0.63418665]\n",
      "[-0.13417298  0.17488694] [0.63418657]\n",
      "[-0.13421954  0.17494059] [0.63418652]\n",
      "[-0.13425504  0.17498121] [0.6341865]\n",
      "[-0.13428211  0.17501197] [0.63418648]\n",
      "[-0.13430276  0.17503527] [0.63418648]\n",
      "[-0.13431851  0.17505291] [0.63418647]\n",
      "[-0.13433052  0.17506626] [0.63418647]\n",
      "[-0.13433969  0.17507637] [0.63418647]\n",
      "[-0.13434668  0.17508402] [0.63418647]\n",
      "[-0.13435201  0.17508982] [0.63418647]\n",
      "[-0.13435608  0.1750942 ] [0.63418646]\n",
      "[-0.13435919  0.17509752] [0.63418646]\n",
      "[-0.13436156  0.17510004] [0.63418646]\n",
      "[-0.13436337  0.17510194] [0.63418646]\n",
      "[-0.13436475  0.17510338] [0.63418646]\n",
      "[-0.1343658   0.17510447] [0.63418646]\n",
      "[-0.1343666   0.17510529] [0.63418646]\n",
      "[-0.13436722  0.17510591] [0.63418646]\n",
      "[-0.13436769  0.17510639] [0.63418646]\n",
      "[-0.13436804  0.17510674] [0.63418646]\n",
      "[-0.13436832  0.17510701] [0.63418646]\n",
      "[-0.13436853  0.17510722] [0.63418646]\n",
      "[-0.13436868  0.17510737] [0.63418646]\n",
      "[-0.13436881  0.17510749] [0.63418646]\n",
      "[-0.1343689   0.17510758] [0.63418646]\n",
      "[-0.13436897  0.17510764] [0.63418646]\n",
      "[-0.13436902  0.1751077 ] [0.63418646]\n",
      "[-0.13436907  0.17510773] [0.63418646]\n",
      "[-0.1343691   0.17510776] [0.63418646]\n",
      "[-0.13436912  0.17510778] [0.63418646]\n",
      "[-0.13436914  0.1751078 ] [0.63418646]\n",
      "[-0.13436915  0.17510781] [0.63418646]\n",
      "[-0.13436916  0.17510782] [0.63418646]\n",
      "[-0.13436917  0.17510783] [0.63418646]\n",
      "[-0.13436918  0.17510783] [0.63418646]\n",
      "[-0.13436918  0.17510784] [0.63418646]\n",
      "[-0.13436919  0.17510784] [0.63418646]\n",
      "[-0.13436919  0.17510784] [0.63418646]\n",
      "[-0.13436919  0.17510785] [0.63418646]\n",
      "[-0.13436919  0.17510785] [0.63418646]\n",
      "[-0.1343692   0.17510785] [0.63418646]\n",
      "[-0.1343692   0.17510785] [0.63418646]\n",
      "[-0.1343692   0.17510785] [0.63418646]\n",
      "[-0.1343692   0.17510785] [0.63418646]\n",
      "[-0.1343692   0.17510785] [0.63418646]\n",
      "[-0.1343692   0.17510785] [0.63418646]\n",
      "[-0.1343692   0.17510785] [0.63418646]\n",
      "[-0.1343692   0.17510785] [0.63418646]\n",
      "[-0.1343692   0.17510785] [0.63418646]\n",
      "[-0.1343692   0.17510785] [0.63418646]\n",
      "[-0.1343692   0.17510785] [0.63418646]\n",
      "[-0.1343692   0.17510785] [0.63418646]\n",
      "[-0.1343692   0.17510785] [0.63418646]\n",
      "[-0.1343692   0.17510785] [0.63418646]\n",
      "[-0.1343692   0.17510785] [0.63418646]\n",
      "[-0.1343692   0.17510785] [0.63418646]\n",
      "[-0.1343692   0.17510785] [0.63418646]\n",
      "[-0.1343692   0.17510785] [0.63418646]\n",
      "[-0.1343692   0.17510785] [0.63418646]\n",
      "[-0.1343692   0.17510785] [0.63418646]\n",
      "[-0.1343692   0.17510785] [0.63418646]\n",
      "[-0.1343692   0.17510785] [0.63418646]\n",
      "[-0.1343692   0.17510785] [0.63418646]\n",
      "[-0.1343692   0.17510785] [0.63418646]\n",
      "[-0.1343692   0.17510785] [0.63418646]\n",
      "[-0.1343692   0.17510785] [0.63418646]\n",
      "[-0.1343692   0.17510785] [0.63418646]\n",
      "[-0.1343692   0.17510785] [0.63418646]\n",
      "[-0.1343692   0.17510785] [0.63418646]\n",
      "[-0.1343692   0.17510785] [0.63418646]\n",
      "[-0.1343692   0.17510785] [0.63418646]\n",
      "[-0.1343692   0.17510785] [0.63418646]\n",
      "[-0.1343692   0.17510785] [0.63418646]\n",
      "[-0.1343692   0.17510785] [0.63418646]\n",
      "[-0.1343692   0.17510785] [0.63418646]\n",
      "[-0.1343692   0.17510785] [0.63418646]\n"
     ]
    }
   ],
   "source": [
    "numIterations = 100\n",
    "wlist = []\n",
    "w0 = np.array([0,0])# wの初期値\n",
    "wlist.append(w0)\n",
    "\n",
    "for i in range(1, numIterations):\n",
    "    wold = wlist[i-1]\n",
    "    wnew = wold + alpha * delta(wold)\n",
    "    wlist.append(wnew)\n",
    "\n",
    "print(\"w, j\")\n",
    "\n",
    "jlist = [J(w) for w in wlist]\n",
    "for w, j in zip(wlist, jlist):\n",
    "    print(w,j)\n",
    "    "
   ]
  },
  {
   "cell_type": "code",
   "execution_count": 403,
   "metadata": {},
   "outputs": [
    {
     "data": {
      "image/png": "[encoded data removed]",
      "text/plain": [
       "<Figure size 432x288 with 1 Axes>"
      ]
     },
     "metadata": {},
     "output_type": "display_data"
    }
   ],
   "source": [
    "# wの収束の様子\n",
    "\n",
    "w1list = [w[0] for w in wlist]\n",
    "w2list = [w[1] for w in wlist]\n",
    "\n",
    "fig = plt.figure()\n",
    "ax = fig.add_subplot(1,1,1)\n",
    "ax.scatter(w1list, w2list, s=10)\n",
    "\n",
    "ax.set_title('movement of w')\n",
    "ax.set_xlabel('$w_1$')\n",
    "ax.set_ylabel('$w_2$');\n"
   ]
  },
  {
   "cell_type": "code",
   "execution_count": 405,
   "metadata": {},
   "outputs": [
    {
     "data": {
      "image/png": "[encoded data removed]",
      "text/plain": [
       "<Figure size 432x288 with 1 Axes>"
      ]
     },
     "metadata": {},
     "output_type": "display_data"
    }
   ],
   "source": [
    "# J(w)の収束の様子\n",
    "iteration = range(0,numIterations)\n",
    "\n",
    "fig = plt.figure()\n",
    "ax = fig.add_subplot(1,1,1)\n",
    "ax.scatter(iteration, jlist, s=5)\n",
    "\n",
    "ax.set_title('movement of $J(w^{(t)})$')\n",
    "ax.set_xlabel('$t$')\n",
    "ax.set_ylabel('$J(w^{(t)})$');"
   ]
  },
  {
   "cell_type": "markdown",
   "metadata": {},
   "source": [
    "## 問題点\n",
    "* 正則化項の$\\lambda$をどうするか\n",
    "* 最急降下法とニュートン法の更新レート$\\alpha$をどうするか\n",
    "\n",
    "収束するように適当に選んだ。$\\alpha$ha\n"
   ]
  },
  {
   "cell_type": "markdown",
   "metadata": {},
   "source": [
    "## メモ\n",
    "* Python3.6.5"
   ]
  },
  {
   "cell_type": "code",
   "execution_count": 381,
   "metadata": {},
   "outputs": [
    {
     "data": {
      "text/plain": [
       "array([[-0.8044583]])"
      ]
     },
     "execution_count": 381,
     "metadata": {},
     "output_type": "execute_result"
    }
   ],
   "source": [
    "omega"
   ]
  },
  {
   "cell_type": "code",
   "execution_count": null,
   "metadata": {},
   "outputs": [],
   "source": []
  }
 ],
 "metadata": {
  "kernelspec": {
   "display_name": "Python 3",
   "language": "python",
   "name": "python3"
  },
  "language_info": {
   "codemirror_mode": {
    "name": "ipython",
    "version": 3
   },
   "file_extension": ".py",
   "mimetype": "text/x-python",
   "name": "python",
   "nbconvert_exporter": "python",
   "pygments_lexer": "ipython3",
   "version": "3.6.5"
  }
 },
 "nbformat": 4,
 "nbformat_minor": 2
}
