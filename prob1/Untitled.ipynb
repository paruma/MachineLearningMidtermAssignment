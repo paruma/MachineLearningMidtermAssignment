{
 "cells": [
  {
   "cell_type": "markdown",
   "metadata": {},
   "source": [
    "# Problem 1\n",
    "ロジスティック回帰 + L2正則化\n",
    "\n",
    "学習データを$x_i\\in \\mathbb{R}^2,\\ y_i\\in \\{-1,1\\}$とする。\n",
    "\n",
    "$$J(w) = \\sum_{i=1}^n (\\ln (1 + \\exp(-y_iw^\\top x_i)))  +\\lambda w^\\top w$$\n",
    "としたとき、\n",
    "$$\\hat w = \\arg\\min_w J(w)$$\n",
    "を求める。解析解は求められないので、最急降下法とニュートン法で上記の最適解を求める。\n",
    "\n",
    "時刻$t\\in\\mathbb{N}$における(最急降下法またはニュートン法の)更新を\n",
    "$$w^{(t+1)} = w^{(t)} + \\alpha^{(t)}d^{(t)}$$\n",
    "とする。今回は簡単のため、$\\alpha^{(t)}$は$t$によらない定数とする。(課題資料より)\n",
    "\n",
    "## 最急降下法\n",
    "$$d^{(t)} = -\\nabla J(w^{(t)})$$\n",
    "\n",
    "\n",
    "\n",
    "## ニュートン法\n",
    "$$d^{(t)} = -(\\nabla^2 J(w^{(t)}))^{-1} \\nabla J(w^{(t)})$$"
   ]
  },
  {
   "cell_type": "markdown",
   "metadata": {},
   "source": [
    "## データセットの作成\n",
    "教師データ$(x_i, y_i)_{i=1}^n$\n",
    "$x_i\\in \\mathbb{R}^2,\\ y_i\\in \\{-1,1\\}$\n",
    "\n"
   ]
  },
  {
   "cell_type": "code",
   "execution_count": 28,
   "metadata": {},
   "outputs": [],
   "source": [
    "import numpy as np\n",
    "import matplotlib.pyplot as plt"
   ]
  },
  {
   "cell_type": "code",
   "execution_count": 248,
   "metadata": {
    "scrolled": true
   },
   "outputs": [],
   "source": [
    "from numpy.random import *\n",
    "\n",
    "seed(1000) # 再現性のためにシード固定\n",
    "n= 40\n",
    "omega = randn(1,1) # 境界線の傾きのようなもの\n",
    "noise = 0.8 * randn(n,1)\n",
    "\n",
    "x = randn(n,2)\n",
    "y = 2 * (omega * x[: , 0:1] + x[: , 1:2]   + noise > 0) - 1\n",
    "# x[:, 0]だと1次元のベクトルが出てきて、行列演算が適用できない。\n",
    "# x[:,0:1]とすることで0列目をn行1列の行列として抽出できる。"
   ]
  },
  {
   "cell_type": "code",
   "execution_count": 249,
   "metadata": {
    "scrolled": true
   },
   "outputs": [
    {
     "data": {
      "text/plain": [
       "<matplotlib.legend.Legend at 0x119894160>"
      ]
     },
     "execution_count": 249,
     "metadata": {},
     "output_type": "execute_result"
    },
    {
     "data": {
      "image/png": "[encoded data removed]",
      "text/plain": [
       "<Figure size 432x288 with 1 Axes>"
      ]
     },
     "metadata": {},
     "output_type": "display_data"
    }
   ],
   "source": [
    "# プロットする\n",
    "\n",
    "data = list(zip(list(x), list(y)))\n",
    "# y=-1とy=1でデータセットを分離する\n",
    "\n",
    "# y=1のデータ\n",
    "# elem[0]: x, elem[1]: yに相当する。\n",
    "data_p1 = list(map(lambda elem: elem[0], filter(lambda elem: elem[1] == 1, data)))\n",
    "# y=-1のデータ\n",
    "data_m1 = list(map(lambda elem: elem[0], filter(lambda elem: elem[1] == -1, data)))\n",
    "\n",
    "# xの第1成分と第2成分を分離\n",
    "data_p1x1 = list(map(lambda elem: elem[0], data_p1))\n",
    "data_p1x2 = list(map(lambda elem: elem[1], data_p1))\n",
    "data_m1x1 = list(map(lambda elem: elem[0], data_m1))\n",
    "data_m1x2 = list(map(lambda elem: elem[1], data_m1))\n",
    "\n",
    "fig = plt.figure()\n",
    "ax = fig.add_subplot(1,1,1)\n",
    "\n",
    "ax.scatter(data_p1x1,data_p1x2, c='red', label='y=1')\n",
    "ax.scatter(data_m1x1, data_m1x2, c='blue', label='y=-1')\n",
    "\n",
    "ax.set_title('learning data')\n",
    "ax.set_xlabel('$X_1$')\n",
    "ax.set_ylabel('$X_2$')\n",
    "ax.legend(loc='upper right')"
   ]
  },
  {
   "cell_type": "markdown",
   "metadata": {},
   "source": [
    "## 問題点\n",
    "* 正則化項の$\\lambda$をどうするか\n",
    "* 最急降下法とニュートン法の更新レート$\\alpha$をどうするか"
   ]
  },
  {
   "cell_type": "code",
   "execution_count": null,
   "metadata": {},
   "outputs": [],
   "source": []
  }
 ],
 "metadata": {
  "kernelspec": {
   "display_name": "Python 3",
   "language": "python",
   "name": "python3"
  },
  "language_info": {
   "codemirror_mode": {
    "name": "ipython",
    "version": 3
   },
   "file_extension": ".py",
   "mimetype": "text/x-python",
   "name": "python",
   "nbconvert_exporter": "python",
   "pygments_lexer": "ipython3",
   "version": "3.6.5"
  }
 },
 "nbformat": 4,
 "nbformat_minor": 2
}
