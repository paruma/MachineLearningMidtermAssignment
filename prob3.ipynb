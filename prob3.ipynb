{
 "cells": [
  {
   "cell_type": "markdown",
   "metadata": {},
   "source": [
    "# Problem 3\n",
    "hinge loss + L2正則化\n",
    "\n",
    "## 理論\n",
    "学習データを$(x_i, y_i)_{i=1}^n,\\  x_i\\in \\mathbb{R}^d,\\ y_i\\in \\{-1,1\\}$とする。 \n",
    "\n",
    "$$J\\colon \\mathbb{R}^d\\to \\mathbb{R}$$\n",
    "$$J(w) = \\sum_{i=1}^n \\max(0, 1 - y_iw^\\top x_i) + \\lambda \\lVert w\\rVert^2_2$$\n",
    "としたとき、\n",
    "\n",
    "$$\\hat{w} = \\arg\\min_{w\\in \\mathbb{R}^d} J(w)$$\n",
    "が最適なパラメータである。\n",
    "この最適化問題は微分不可能な点があってそのままだと難しいので、スラック変数$\\xi\\in \\mathbb{R}^d$を導入して、\n",
    "\n",
    "\\begin{align}\n",
    "  \\text{minimize}_{w, \\xi\\in \\mathbb{R}^d}\\qquad &1^\\top \\xi + \\lambda w^\\top w\\\\\n",
    "  \\text{subject to}\\qquad &\\xi_i\\geq 1 - y_i w^\\top x_i\\qquad (i=1,2,\\ldots n)\\\\\n",
    "                          &\\xi\\geq 0\n",
    "\\end{align}\n",
    "と書ける。\n",
    "\n",
    "\n",
    "上記の最適化問題のラグランジアン $L\\colon \\mathbb{R}^d\\times \\mathbb{R}^d \\times \\mathbb{R}_{\\geq 0}^n \\times \\mathbb{R}_{\\geq 0}^n\\to \\mathbb{R}$は次のようになる。\n",
    "\\begin{equation}\n",
    "  L(w, \\xi, \\alpha,\\beta ) = 1^\\top \\xi + \\lambda w^\\top w + \\sum_{i=1}^n \\alpha_i(1 - y_i w^\\top x_i - \\xi_i) - \\beta^\\top \\xi\n",
    "\\end{equation}\n",
    "\n",
    "KKT条件の$\\partial L/ \\partial w = 0$から、\n",
    "\n",
    "$$\\hat w = \\frac{1}{2\\lambda}\\sum_{i=1}^n \\alpha_i y_i x_i$$\n",
    "が得られる。\n",
    "\n",
    "$L$のラグランジュ双対関数を$\\tilde{L}\\colon \\mathbb{R}_{\\geq 0}^n \\times \\mathbb{R}_{\\geq 0}^n\\to \\mathbb{R}\\cup\\{-\\infty\\}$とする。つまり、\n",
    "\n",
    "\\begin{equation}\n",
    "  \\tilde{L}(\\alpha, \\beta) = \\inf_{w\\in \\mathbb{R}^d,\\ \\xi \\in \\mathbb{R}^d} L(w, \\xi, \\alpha,\\beta )\n",
    "\\end{equation}\n",
    "である。\n",
    "\n",
    "ラグランジュ双対問題は次のように書ける。\n",
    "\\begin{align}\n",
    "  \\text{maximize}_{\\alpha \\in \\mathbb{R}^n}\\qquad &-\\frac{1}{4\\lambda} \\alpha^\\top K\\alpha + \\alpha^\\top 1\\\\\n",
    "  \\text{subject to}\\qquad &\\alpha \\in [0,1]^n\n",
    "\\end{align}\n",
    "\n",
    "ただし、$K\\in \\mathbb{R}^{n\\times n},\\ K_{i,j} = y_iy_jx_i^\\top x_j$\n",
    "\n",
    "ラグランジュ双対関数を次のように再定義する。\n",
    "\n",
    "$$\\tilde{L}(\\alpha) = -\\frac{1}{4\\lambda} \\alpha^\\top K\\alpha + \\alpha^\\top 1$$\n",
    "\n",
    "ラグランジュ双対問題を最小化問題に書き直すと次のようになる。\n",
    "\n",
    "\\begin{align}\n",
    "  \\text{minimize}_{\\alpha \\in \\mathbb{R}^n}\\qquad &-\\tilde{L}(\\alpha)\\\\\n",
    "  \\text{subject to}\\qquad &\\alpha \\in [0,1]^n\n",
    "\\end{align}\n",
    "\n",
    "この最適解を射影勾配法で求める。学習率を$\\eta_t$、$P_{[0,1]^n}$を集合$[0,1]^n$への射影作用素とすると、\n",
    "\n",
    "$$\\alpha^{(t+1)} = P_{[0,1]^n}\\left(\\alpha^{(t)} - \\eta_t \\left(\\frac{1}{2\\lambda} K \\alpha^{(t)} - 1\\right)\\right)$$\n",
    "\n",
    "\n",
    "この最適解$\\hat\\alpha$を求めて、\n",
    "$$\\hat w = \\frac{1}{2\\lambda}\\sum_{i=1}^n \\hat\\alpha_i y_i x_i$$\n",
    "を計算すると、最適パラメータ$\\hat w$が得られる。\n",
    "\n"
   ]
  },
  {
   "cell_type": "markdown",
   "metadata": {},
   "source": [
    "## データセット\n",
    "Problem 1と同じものを使用する。\n",
    "\n",
    "教師データ$(x_i, y_i)_{i=1}^n$\n",
    "$x_i\\in \\mathbb{R}^2,\\ y_i\\in \\{-1,1\\}$"
   ]
  },
  {
   "cell_type": "code",
   "execution_count": 185,
   "metadata": {},
   "outputs": [],
   "source": [
    "import numpy as np\n",
    "import matplotlib.pyplot as plt"
   ]
  },
  {
   "cell_type": "code",
   "execution_count": 186,
   "metadata": {},
   "outputs": [],
   "source": [
    "from collections import namedtuple\n",
    "Entry = namedtuple('Entry', ('x', 'y'))"
   ]
  },
  {
   "cell_type": "code",
   "execution_count": 187,
   "metadata": {},
   "outputs": [],
   "source": [
    "from numpy.random import *\n",
    "\n",
    "seed(1000) # 再現性のために乱数のシード固定\n",
    "n= 40\n",
    "omega = randn(1,1) # 境界線の傾きのようなもの\n",
    "noise = 0.8 * randn(n,1)\n",
    "\n",
    "x = randn(n,2)\n",
    "y = 2 * (omega * x[: , 0:1] + x[: , 1:2]   + noise > 0) - 1\n",
    "# x[:, 0]だと1次元のベクトルが出てきて、行列演算が適用できない。\n",
    "# x[:,0:1]とすることで0列目をn行1列の行列として抽出できる。\n",
    "\n",
    "data = [Entry(elem[0].reshape(2,1), elem[1]) for elem in zip(list(x), list(y))]"
   ]
  },
  {
   "cell_type": "code",
   "execution_count": 188,
   "metadata": {},
   "outputs": [
    {
     "data": {
      "image/png": "[encoded data removed]",
      "text/plain": [
       "<Figure size 432x288 with 1 Axes>"
      ]
     },
     "metadata": {},
     "output_type": "display_data"
    }
   ],
   "source": [
    "# 学習データをプロットする\n",
    "\n",
    "# y=-1とy=1でデータセットを分離する\n",
    "\n",
    "# y=1のデータ\n",
    "data_p1 = [elem.x for elem in data if elem.y == 1]\n",
    "# y=-1のデータ\n",
    "data_m1 = [elem.x for elem in data if elem.y == -1]\n",
    "\n",
    "# xの第1成分と第2成分を分離\n",
    "data_p1x1 = [x[0] for x in data_p1]\n",
    "data_p1x2 = [x[1] for x in data_p1]\n",
    "data_m1x1 = [x[0] for x in data_m1]\n",
    "data_m1x2 = [x[1] for x in data_m1]\n",
    "\n",
    "fig = plt.figure()\n",
    "ax = fig.add_subplot(1,1,1)\n",
    "\n",
    "ax.scatter(data_p1x1,data_p1x2, c='red', label='y=1')\n",
    "ax.scatter(data_m1x1, data_m1x2, c='blue', label='y=-1')\n",
    "\n",
    "ax.set_title('learning data')\n",
    "ax.set_xlabel('$X_1$')\n",
    "ax.set_ylabel('$X_2$')\n",
    "ax.legend(loc='upper right');\n",
    "fig.savefig('learning_data.png')"
   ]
  },
  {
   "cell_type": "markdown",
   "metadata": {},
   "source": [
    "## 目的関数(hinge loss + 正則化項)\n",
    "$$J\\colon \\mathbb{R}^2\\to \\mathbb{R}$$\n",
    "$$J(w) = \\sum_{i=1}^n \\max(0, 1 - y_iw^\\top x_i) + \\lambda \\lVert w\\rVert^2_2$$\n",
    "\n",
    "$\\lambda = 1$とする"
   ]
  },
  {
   "cell_type": "code",
   "execution_count": 189,
   "metadata": {},
   "outputs": [],
   "source": [
    "lam = 1"
   ]
  },
  {
   "cell_type": "code",
   "execution_count": 190,
   "metadata": {},
   "outputs": [],
   "source": [
    "# wは2次元\n",
    "def J(w):\n",
    "    def f(entry):\n",
    "        x = entry.x\n",
    "        y = entry.y\n",
    "        ywx = y * np.matmul(w.T, x) \n",
    "        return np.max((0, 1-ywx))\n",
    "    return sum([f(entry) for entry in data]) + lam * np.matmul(w.T, w)"
   ]
  },
  {
   "cell_type": "markdown",
   "metadata": {},
   "source": [
    "## ラグランジュ双対関数\n",
    "$$\\tilde{L}\\colon [0,1]^n \\to \\mathbb{R}$$\n",
    "$$\\tilde{L}(\\alpha) = -\\frac{1}{4\\lambda} \\alpha^\\top K\\alpha + \\alpha^\\top 1$$\n",
    "\n",
    "ただし、$K\\in \\mathbb{R}^{n\\times n},\\ K_{i,j} = y_iy_jx_i^\\top x_j$"
   ]
  },
  {
   "cell_type": "code",
   "execution_count": 191,
   "metadata": {},
   "outputs": [],
   "source": [
    "# Kの定義\n",
    "K = np.zeros((n,n))\n",
    "for i in range(0,n):\n",
    "    for j in range(0,n):\n",
    "        yi = data[i].y\n",
    "        yj = data[j].y\n",
    "        xi = data[i].x\n",
    "        xj = data[j].x\n",
    "        \n",
    "        K[i][j] = yi * yj * np.matmul(xi.T, xj)"
   ]
  },
  {
   "cell_type": "code",
   "execution_count": 192,
   "metadata": {},
   "outputs": [],
   "source": [
    "#  alphaはn次元\n",
    "def lag_dual(alpha):\n",
    "    return -(1/4 * lam) * np.matmul(np.matmul(alpha.T, K), alpha) + sum(alpha)"
   ]
  },
  {
   "cell_type": "markdown",
   "metadata": {},
   "source": [
    "## 射影勾配法\n",
    "\n",
    "\n",
    "\\begin{align}\n",
    "  \\text{minimize}_{\\alpha \\in \\mathbb{R}^n}\\qquad &-\\tilde{L}(\\alpha)\\\\\n",
    "  \\text{subject to}\\qquad &\\alpha \\in [0,1]^n\n",
    "\\end{align}\n",
    "\n",
    "この最適解を射影勾配法で求める。学習率を$\\eta_t$、$P_{[0,1]^n}$を集合$[0,1]^n$への射影作用素とすると、\n",
    "\n",
    "$$\\alpha^{(t+1)} = P_{[0,1]^n}\\left(\\alpha^{(t)} - \\eta_t \\left(\\frac{1}{2\\lambda} K \\alpha^{(t)} - 1\\right)\\right)$$\n",
    "\n",
    "学習率は$-\\tilde{L}$のヘッシアン $(1/2\\lambda)K$の最大固有値の逆数とする。\n",
    "\n",
    "初期値は$\\alpha^{(0)} = 0$とする"
   ]
  },
  {
   "cell_type": "code",
   "execution_count": 193,
   "metadata": {},
   "outputs": [],
   "source": [
    "import numpy.linalg as LA\n",
    "# 学習率etaの計算\n",
    "maxeig_K = np.max(LA.eigvalsh(K))\n",
    "eta = 1/((1/2 * lam) * maxeig_K)"
   ]
  },
  {
   "cell_type": "code",
   "execution_count": 194,
   "metadata": {},
   "outputs": [],
   "source": [
    "# [0,1]^nへの射影作用素\n",
    "\n",
    "def proj(alpha):\n",
    "    result = np.zeros(n)\n",
    "    for i in range(0,n):\n",
    "        if alpha[i] < 0:\n",
    "            result[i] = 0\n",
    "        elif alpha[i] <1:\n",
    "            result[i] = alpha[i]\n",
    "        else:\n",
    "            result[i] = 1\n",
    "    return result\n"
   ]
  },
  {
   "cell_type": "code",
   "execution_count": 195,
   "metadata": {},
   "outputs": [],
   "source": [
    "#  更新式\n",
    "def update(alpha):\n",
    "    return proj(alpha - eta * ((1/2 * lam) * np.matmul(K, alpha) - 1))"
   ]
  },
  {
   "cell_type": "code",
   "execution_count": 196,
   "metadata": {},
   "outputs": [],
   "source": [
    "# 射影勾配法\n",
    "numIterations = 100 # 100回だと足りなそう。\n",
    "alpha_list = []\n",
    "alpha0 = np.zeros((n, 1))\n",
    "alpha_list.append(alpha0)\n",
    "\n",
    "for i in range(1, numIterations):\n",
    "    alpha_old = alpha_list[i-1]\n",
    "    alpha_new = update(alpha_old)\n",
    "    alpha_list.append(alpha_new)\n",
    "\n",
    "alpha_result = alpha_list[-1] # 射影勾配法の結果\n"
   ]
  },
  {
   "cell_type": "markdown",
   "metadata": {},
   "source": [
    "## 最適パラメータの導出\n",
    "更新途中の$\\alpha^{(t)}$を用いて計算されたパラメータを$\\hat w^{(t)}$とする。\n",
    "$$\\hat w^{(t)} = \\frac{1}{2\\lambda}\\sum_{i=1}^n \\alpha^{(t)}_i y_i x_i$$\n",
    "$$\\hat w = \\frac{1}{2\\lambda}\\sum_{i=1}^n \\hat\\alpha_i y_i x_i$$"
   ]
  },
  {
   "cell_type": "code",
   "execution_count": 197,
   "metadata": {},
   "outputs": [],
   "source": [
    "def g(entry):\n",
    "    alpha = entry[0]\n",
    "    x = entry[1].x\n",
    "    y = entry[1].y\n",
    "    return alpha * y * x\n",
    "\n",
    "w_list = []\n",
    "for alpha in alpha_list:\n",
    "    w = (1/2 * lam) * sum([g(entry) for entry in zip(list(alpha), data)])\n",
    "    w_list.append(w)\n",
    "\n",
    "w_result = w_list[-1]\n"
   ]
  },
  {
   "cell_type": "code",
   "execution_count": 198,
   "metadata": {},
   "outputs": [
    {
     "data": {
      "text/plain": [
       "array([[-1.07763133],\n",
       "       [ 1.40373721]])"
      ]
     },
     "execution_count": 198,
     "metadata": {},
     "output_type": "execute_result"
    }
   ],
   "source": [
    "# 最適パラメータ\n",
    "w_result"
   ]
  },
  {
   "cell_type": "code",
   "execution_count": 199,
   "metadata": {
    "scrolled": true
   },
   "outputs": [
    {
     "data": {
      "image/png": "[encoded data removed]",
      "text/plain": [
       "<Figure size 432x288 with 1 Axes>"
      ]
     },
     "metadata": {},
     "output_type": "display_data"
    }
   ],
   "source": [
    "# 学習データ + 識別線\n",
    "\n",
    "fig = plt.figure()\n",
    "ax = fig.add_subplot(1,1,1)\n",
    "\n",
    "# 学習データ\n",
    "ax.scatter(data_p1x1,data_p1x2, c='red', label='y=1')\n",
    "ax.scatter(data_m1x1, data_m1x2, c='blue', label='y=-1')\n",
    "\n",
    "ax.set_title('learning data & discrimination line')\n",
    "ax.set_xlabel('$X_1$')\n",
    "ax.set_ylabel('$X_2$')\n",
    "ax.legend(loc='upper right');\n",
    "\n",
    "# 識別線\n",
    "linex = np.arange(-2,3,0.01)\n",
    "# w1*x + w2*y = 0より、y = -(w1/w2)x が識別線\n",
    "liney = -w_result[0]/w_result[1] * linex\n",
    "ax.scatter(linex, liney,c='green', s=5);"
   ]
  },
  {
   "cell_type": "markdown",
   "metadata": {},
   "source": [
    "正しく識別できたことが確認できた。"
   ]
  },
  {
   "cell_type": "markdown",
   "metadata": {},
   "source": [
    "## 結果の解析\n",
    "$(\\tilde{L}(\\alpha^{(t)}))_t$の収束の確認"
   ]
  },
  {
   "cell_type": "code",
   "execution_count": 200,
   "metadata": {},
   "outputs": [],
   "source": [
    "lag_dual_alpha_list = [lag_dual(alpha) for alpha in alpha_list]"
   ]
  },
  {
   "cell_type": "code",
   "execution_count": 201,
   "metadata": {},
   "outputs": [
    {
     "data": {
      "image/png": "[encoded data removed]",
      "text/plain": [
       "<Figure size 432x288 with 1 Axes>"
      ]
     },
     "metadata": {},
     "output_type": "display_data"
    }
   ],
   "source": [
    "fig = plt.figure()\n",
    "ax = fig.add_subplot(1,1,1)\n",
    "ax.scatter(range(20, numIterations), lag_dual_alpha_list[20: numIterations], s=5)\n",
    "\n",
    "ax.set_title('Lagrange dual function of alpha[t]')\n",
    "ax.set_xlabel('$t$')\n",
    "ax.set_ylabel('Lagrange dual function of alpha[t]');\n"
   ]
  },
  {
   "cell_type": "markdown",
   "metadata": {},
   "source": [
    "$(J(\\hat{w}^{(t)}))_t$の収束の確認"
   ]
  },
  {
   "cell_type": "code",
   "execution_count": 202,
   "metadata": {},
   "outputs": [],
   "source": [
    "jw_list = [J(w) for w in w_list]"
   ]
  },
  {
   "cell_type": "code",
   "execution_count": 203,
   "metadata": {},
   "outputs": [
    {
     "data": {
      "image/png": "[encoded data removed]",
      "text/plain": [
       "<Figure size 432x288 with 1 Axes>"
      ]
     },
     "metadata": {},
     "output_type": "display_data"
    }
   ],
   "source": [
    "fig = plt.figure()\n",
    "ax = fig.add_subplot(1,1,1)\n",
    "ax.scatter(range(20, numIterations), jw_list[20: numIterations], s=5)\n",
    "\n",
    "ax.set_title('J(w[t])')\n",
    "ax.set_xlabel('$t$')\n",
    "ax.set_ylabel('J(w[t])');"
   ]
  },
  {
   "cell_type": "markdown",
   "metadata": {},
   "source": [
    "双対ギャップ$(J(\\hat{w}^{(t)})-\\tilde{L}(\\alpha^{(t)}))_t$が$0$に収束することの確認"
   ]
  },
  {
   "cell_type": "code",
   "execution_count": 204,
   "metadata": {},
   "outputs": [],
   "source": [
    "dual_gap = [jw_list[i] - lag_dual_alpha_list[i] for i in range(0, numIterations)]"
   ]
  },
  {
   "cell_type": "code",
   "execution_count": 205,
   "metadata": {},
   "outputs": [
    {
     "data": {
      "image/png": "[encoded data removed]",
      "text/plain": [
       "<Figure size 432x288 with 1 Axes>"
      ]
     },
     "metadata": {},
     "output_type": "display_data"
    }
   ],
   "source": [
    "fig = plt.figure()\n",
    "ax = fig.add_subplot(1,1,1)\n",
    "ax.scatter(range(20, numIterations), dual_gap[20:numIterations], s=5)\n",
    "\n",
    "ax.set_title('dual gap')\n",
    "ax.set_xlabel('$t$')\n",
    "ax.set_ylabel('dual gap');"
   ]
  }
 ],
 "metadata": {
  "kernelspec": {
   "display_name": "Python 3",
   "language": "python",
   "name": "python3"
  },
  "language_info": {
   "codemirror_mode": {
    "name": "ipython",
    "version": 3
   },
   "file_extension": ".py",
   "mimetype": "text/x-python",
   "name": "python",
   "nbconvert_exporter": "python",
   "pygments_lexer": "ipython3",
   "version": "3.6.5"
  }
 },
 "nbformat": 4,
 "nbformat_minor": 2
}
